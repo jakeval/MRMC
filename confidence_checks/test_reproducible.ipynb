{
 "cells": [
  {
   "cell_type": "markdown",
   "metadata": {},
   "source": [
    "# Check that MRMC and DICE can run reproducibly"
   ]
  },
  {
   "cell_type": "code",
   "execution_count": 2,
   "metadata": {},
   "outputs": [],
   "source": [
    "import sys\n",
    "import os\n",
    "sys.path.append(os.path.join(os.getcwd(), '..'))\n",
    "\n",
    "\n",
    "%load_ext autoreload\n",
    "%autoreload 2\n",
    "\n",
    "\n",
    "from typing import Sequence\n",
    "\n",
    "import numpy as np\n",
    "import pandas as pd \n",
    "\n",
    "from recourse_methods import mrmc_method, dice_method\n",
    "from core import recourse_iterator, utils\n",
    "from data.adapters import continuous_adapter\n",
    "from data import data_loader\n",
    "from models import model_loader, model_constants"
   ]
  },
  {
   "cell_type": "code",
   "execution_count": 3,
   "metadata": {},
   "outputs": [
    {
     "name": "stderr",
     "output_type": "stream",
     "text": [
      "/home/jakeval/umass/research/.venv/lib/python3.8/site-packages/sklearn/base.py:329: UserWarning: Trying to unpickle estimator StandardScaler from version 1.1.2 when using version 1.1.3. This might lead to breaking code or invalid results. Use at your own risk. For more info please refer to:\n",
      "https://scikit-learn.org/stable/model_persistence.html#security-maintainability-limitations\n",
      "  warnings.warn(\n",
      "/home/jakeval/umass/research/.venv/lib/python3.8/site-packages/sklearn/base.py:329: UserWarning: Trying to unpickle estimator LogisticRegression from version 1.1.2 when using version 1.1.3. This might lead to breaking code or invalid results. Use at your own risk. For more info please refer to:\n",
      "https://scikit-learn.org/stable/model_persistence.html#security-maintainability-limitations\n",
      "  warnings.warn(\n"
     ]
    }
   ],
   "source": [
    "DATASET, DATASET_INFO = data_loader.load_data(data_loader.DatasetName.CREDIT_CARD_DEFAULT)\n",
    "MODEL = model_loader.load_model(\n",
    "    model_constants.ModelType.LOGISTIC_REGRESSION,\n",
    "    data_loader.DatasetName.CREDIT_CARD_DEFAULT)"
   ]
  },
  {
   "cell_type": "markdown",
   "metadata": {},
   "source": [
    "### Check MRMC reproducibility"
   ]
  },
  {
   "cell_type": "code",
   "execution_count": 6,
   "metadata": {},
   "outputs": [],
   "source": [
    "def iterate_mrmc_recourse(random_seed: int) -> pd.DataFrame:\n",
    "    \"\"\"Iterate an MRMC path using a given random seed.\"\"\"\n",
    "    rng = np.random.default_rng(random_seed)\n",
    "    poi_seed, adapter_seed, mrmc_seed = rng.integers(0, 100000, size=3)\n",
    "    \n",
    "    adapter = continuous_adapter.StandardizingAdapter(\n",
    "        label_column=DATASET_INFO.label_column,\n",
    "        perturb_ratio=0.5,\n",
    "        positive_label=DATASET_INFO.positive_label,\n",
    "        random_seed=adapter_seed,\n",
    "    ).fit(DATASET)\n",
    "    poi = utils.random_poi(\n",
    "        DATASET,\n",
    "        DATASET_INFO.label_column,\n",
    "        adapter.negative_label,\n",
    "        model=MODEL,\n",
    "        random_seed=poi_seed)\n",
    "    mrmc = mrmc_method.MRMC(\n",
    "        k_directions=2,\n",
    "        adapter=adapter,\n",
    "        dataset=DATASET,\n",
    "        rescale_direction=mrmc_method.get_constant_step_size_rescaler(0.5),\n",
    "        confidence_threshold=0.8,\n",
    "        model=MODEL,\n",
    "        random_seed=mrmc_seed\n",
    "    )\n",
    "    iterator = recourse_iterator.RecourseIterator(\n",
    "        mrmc,\n",
    "        adapter,\n",
    "        certainty_cutoff=0.8,\n",
    "        model=MODEL\n",
    "    )\n",
    "    paths = iterator.iterate_k_recourse_paths(poi, 10)\n",
    "    return paths\n",
    "\n",
    "def check_paths_are_equal(paths1: Sequence[pd.DataFrame], paths2: Sequence[pd.DataFrame]):\n",
    "    \"\"\"Given to path sets, check that they are identical.\n",
    "    \n",
    "    The path sets should contain identical paths in the identical order.\n",
    "    \"\"\"\n",
    "    for path1, path2 in zip(paths1, paths2):\n",
    "        np.testing.assert_equal(path1.to_numpy(), path2.to_numpy())\n",
    "\n",
    "    return True"
   ]
  },
  {
   "cell_type": "markdown",
   "metadata": {},
   "source": [
    "The two path sets generated below with the same seed should be identical."
   ]
  },
  {
   "cell_type": "code",
   "execution_count": 8,
   "metadata": {},
   "outputs": [
    {
     "name": "stdout",
     "output_type": "stream",
     "text": [
      "MRMC is reproducible\n"
     ]
    }
   ],
   "source": [
    "mrmc_path_1 = iterate_mrmc_recourse(19293)\n",
    "mrmc_path_2 = iterate_mrmc_recourse(19293)\n",
    "\n",
    "if check_paths_are_equal(mrmc_path_1, mrmc_path_2):\n",
    "    print(\"MRMC is reproducible\")"
   ]
  },
  {
   "cell_type": "markdown",
   "metadata": {},
   "source": [
    "### Check DICE reproducibility"
   ]
  },
  {
   "cell_type": "code",
   "execution_count": 11,
   "metadata": {},
   "outputs": [],
   "source": [
    "def iterate_dice_recourse(random_seed: int) -> Sequence[pd.DataFrame]:\n",
    "    \"\"\"Iterate DICE paths using a given random seed.\"\"\"\n",
    "    rng = np.random.default_rng(random_seed)\n",
    "    poi_seed, adapter_seed, dice_seed = rng.integers(0, 100000, size=3)\n",
    "    \n",
    "    adapter = continuous_adapter.StandardizingAdapter(\n",
    "        label_column=DATASET_INFO.label_column,\n",
    "        perturb_ratio=0.5,\n",
    "        positive_label=DATASET_INFO.positive_label,\n",
    "        random_seed=adapter_seed,\n",
    "    ).fit(DATASET)\n",
    "    poi = utils.random_poi(\n",
    "        DATASET,\n",
    "        DATASET_INFO.label_column,\n",
    "        adapter.negative_label,\n",
    "        model=MODEL,\n",
    "        random_seed=poi_seed)\n",
    "    dice = dice_method.DiCE(\n",
    "        k_directions=2,\n",
    "        adapter=adapter,\n",
    "        dataset=DATASET,\n",
    "        continuous_features=DATASET_INFO.continuous_features,\n",
    "        model=MODEL,\n",
    "        desired_confidence=0.8,\n",
    "        random_seed=dice_seed,\n",
    "    )\n",
    "    iterator = recourse_iterator.RecourseIterator(\n",
    "        dice,\n",
    "        adapter,\n",
    "        certainty_cutoff=0.8,\n",
    "        model=MODEL\n",
    "    )\n",
    "    paths = iterator.iterate_k_recourse_paths(poi, 3)\n",
    "    return paths"
   ]
  },
  {
   "cell_type": "markdown",
   "metadata": {},
   "source": [
    "The two path sets generated below with the same seed should be identical"
   ]
  },
  {
   "cell_type": "code",
   "execution_count": 12,
   "metadata": {},
   "outputs": [
    {
     "name": "stderr",
     "output_type": "stream",
     "text": [
      "100%|██████████| 1/1 [00:01<00:00,  1.17s/it]\n",
      "100%|██████████| 1/1 [00:00<00:00,  1.10it/s]\n",
      "100%|██████████| 1/1 [00:00<00:00,  1.06it/s]\n",
      "100%|██████████| 1/1 [00:01<00:00,  1.06s/it]\n",
      "100%|██████████| 1/1 [00:01<00:00,  1.39s/it]\n",
      "100%|██████████| 1/1 [00:01<00:00,  1.80s/it]\n",
      "100%|██████████| 1/1 [00:01<00:00,  1.28s/it]\n",
      "100%|██████████| 1/1 [00:01<00:00,  1.07s/it]\n",
      "100%|██████████| 1/1 [00:00<00:00,  1.13it/s]\n",
      "100%|██████████| 1/1 [00:01<00:00,  1.15s/it]\n"
     ]
    },
    {
     "name": "stdout",
     "output_type": "stream",
     "text": [
      "DICE is reproducible.\n"
     ]
    }
   ],
   "source": [
    "dice_path_1 = iterate_dice_recourse(19293)\n",
    "dice_path_2 = iterate_dice_recourse(19293)\n",
    "\n",
    "if check_paths_are_equal(dice_path_1, dice_path_2):\n",
    "    print(\"DICE is reproducible.\")"
   ]
  },
  {
   "cell_type": "code",
   "execution_count": null,
   "metadata": {},
   "outputs": [],
   "source": []
  }
 ],
 "metadata": {
  "kernelspec": {
   "display_name": "Python 3.8.10 ('.venv')",
   "language": "python",
   "name": "python3"
  },
  "language_info": {
   "codemirror_mode": {
    "name": "ipython",
    "version": 3
   },
   "file_extension": ".py",
   "mimetype": "text/x-python",
   "name": "python",
   "nbconvert_exporter": "python",
   "pygments_lexer": "ipython3",
   "version": "3.8.10"
  },
  "orig_nbformat": 4,
  "vscode": {
   "interpreter": {
    "hash": "544bbcec4a3402c4ea95887680bbb478b7040f8d29544f0f161653d15df00b63"
   }
  }
 },
 "nbformat": 4,
 "nbformat_minor": 2
}
