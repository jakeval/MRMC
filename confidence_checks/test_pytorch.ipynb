{
 "cells": [
  {
   "cell_type": "code",
   "execution_count": 204,
   "metadata": {},
   "outputs": [],
   "source": [
    "import sys\n",
    "import os\n",
    "sys.path.append(os.path.join(os.getcwd(), '..'))\n",
    "\n",
    "\n",
    "import numpy as np\n",
    "import torch\n",
    "from torch import nn\n",
    "\n",
    "\n",
    "import dice_ml\n",
    "\n",
    "\n",
    "from data import data_loader\n",
    "from models import model_loader, model_constants"
   ]
  },
  {
   "cell_type": "code",
   "execution_count": 91,
   "metadata": {},
   "outputs": [],
   "source": [
    "dataset, dataset_info = data_loader.load_data(data_loader.DatasetName.CREDIT_CARD_DEFAULT)\n",
    "model = model_loader.load_model(model_constants.ModelType.LOGISTIC_REGRESSION, data_loader.DatasetName.CREDIT_CARD_DEFAULT)\n",
    "adapter = model.adapter"
   ]
  },
  {
   "cell_type": "markdown",
   "metadata": {},
   "source": [
    "### Get the weights and bias from the logistic regression model"
   ]
  },
  {
   "cell_type": "code",
   "execution_count": 123,
   "metadata": {},
   "outputs": [
    {
     "name": "stdout",
     "output_type": "stream",
     "text": [
      "[[ 0.17913481 -0.08972634 -0.67712912 -0.05839876 -0.12636706 -0.08014985\n",
      "  -0.10174463 -0.09461647  0.05835037 -0.07734015 -0.07670007 -0.13692418\n",
      "   0.05415821  0.14608283  0.20286413  0.16240486  0.04927758  0.01076174\n",
      "   0.00396594  0.04528845]]\n",
      "[0.18713934]\n"
     ]
    }
   ],
   "source": [
    "w = model.model.coef_\n",
    "b = model.model.intercept_"
   ]
  },
  {
   "cell_type": "markdown",
   "metadata": {},
   "source": [
    "## Create a simple LR model and verify that it returns the same values as the original model"
   ]
  },
  {
   "cell_type": "code",
   "execution_count": 206,
   "metadata": {},
   "outputs": [
    {
     "name": "stdout",
     "output_type": "stream",
     "text": [
      "Original model predictions:\n",
      "[0.17976778 0.54215535 0.62426223 0.59346296 0.61332876 0.58984144\n",
      " 0.8786564  0.6438568  0.56752424 0.59791674]\n",
      "New model predictions:\n",
      "[0.17976778 0.54215535 0.62426223 0.59346296 0.61332876 0.58984144\n",
      " 0.8786564  0.6438568  0.56752424 0.59791674]\n"
     ]
    }
   ],
   "source": [
    "def sigmoid(z):\n",
    "    return 1 / (1 + np.exp(-z))\n",
    "\n",
    "\n",
    "def fake_lr(coef, intercept, data):\n",
    "    return sigmoid(data @ coef[0] + intercept)\n",
    "\n",
    "data = adapter.transform(dataset).iloc[:10].drop(\"Y\", axis=1)\n",
    "print(\"Original model predictions:\")\n",
    "print(model.predict_pos_proba(dataset.iloc[:10]).to_numpy())\n",
    "\n",
    "print(\"New model predictions:\")\n",
    "print(fake_lr(w, b, data.to_numpy()))"
   ]
  },
  {
   "cell_type": "markdown",
   "metadata": {},
   "source": [
    "# Implement the model in Pytorch"
   ]
  },
  {
   "cell_type": "code",
   "execution_count": 207,
   "metadata": {},
   "outputs": [],
   "source": [
    "class TorchLR(nn.Module):\n",
    "    def __init__(self, w, b):\n",
    "        super().__init__()\n",
    "        self.layer = nn.Linear(w.shape[0], 1, dtype=torch.float32)\n",
    "        with torch.no_grad():\n",
    "            self.layer.weight.copy_(torch.tensor(w))\n",
    "            self.layer.bias.copy_(torch.tensor(b))\n",
    "        self.sigmoid = nn.Sigmoid()\n",
    "\n",
    "    def forward(self, data):\n",
    "        return self.sigmoid(self.layer(data))\n"
   ]
  },
  {
   "cell_type": "markdown",
   "metadata": {},
   "source": [
    "### Test the PyTorch model with DICE"
   ]
  },
  {
   "cell_type": "code",
   "execution_count": 209,
   "metadata": {},
   "outputs": [],
   "source": [
    "clf = TorchLR(w[0], b)\n",
    "data = adapter.transform(dataset)\n",
    "m = dice_ml.Model(model=clf, backend=\"PYT\")\n",
    "d = dice_ml.Data(dataframe=data, continuous_features=dataset_info.continuous_features, outcome_name=adapter.label_column)\n",
    "dice = dice_ml.Dice(data_interface=d, model_interface=m, method=\"gradient\")"
   ]
  },
  {
   "cell_type": "code",
   "execution_count": 168,
   "metadata": {},
   "outputs": [],
   "source": [
    "POIs = data[data.Y == -1].iloc[[1039, 192, 5, 242, 23]].drop(\"Y\", axis=1)"
   ]
  },
  {
   "cell_type": "markdown",
   "metadata": {},
   "source": [
    "Running the recourse with the same arguments produces the same results."
   ]
  },
  {
   "cell_type": "code",
   "execution_count": 180,
   "metadata": {},
   "outputs": [
    {
     "name": "stderr",
     "output_type": "stream",
     "text": [
      "  0%|          | 0/1 [00:00<?, ?it/s]WARNING:root: MAD for feature PAY_1 is 0, so replacing it with 1.0 to avoid error.\n",
      "WARNING:root: MAD for feature PAY_2 is 0, so replacing it with 1.0 to avoid error.\n",
      "WARNING:root: MAD for feature PAY_3 is 0, so replacing it with 1.0 to avoid error.\n",
      "WARNING:root: MAD for feature PAY_4 is 0, so replacing it with 1.0 to avoid error.\n",
      "WARNING:root: MAD for feature PAY_5 is 0, so replacing it with 1.0 to avoid error.\n",
      "WARNING:root: MAD for feature PAY_6 is 0, so replacing it with 1.0 to avoid error.\n",
      "100%|██████████| 1/1 [02:19<00:00, 139.30s/it]"
     ]
    },
    {
     "name": "stdout",
     "output_type": "stream",
     "text": [
      "Diverse Counterfactuals found! total time taken: 00 min 16 sec\n"
     ]
    },
    {
     "name": "stderr",
     "output_type": "stream",
     "text": [
      "\n"
     ]
    }
   ],
   "source": [
    "result = dice.generate_counterfactuals(query_instances=POIs.iloc[:1], total_CFs=2, desired_class=1)\n",
    "adapter.inverse_transform(result.cf_examples_list[0].final_cfs_df)"
   ]
  },
  {
   "cell_type": "markdown",
   "metadata": {},
   "source": [
    "The recourse also ignores the various `weight` arguments"
   ]
  },
  {
   "cell_type": "code",
   "execution_count": 199,
   "metadata": {},
   "outputs": [
    {
     "name": "stderr",
     "output_type": "stream",
     "text": [
      "  0%|          | 0/1 [00:00<?, ?it/s]WARNING:root: MAD for feature PAY_1 is 0, so replacing it with 1.0 to avoid error.\n",
      "WARNING:root: MAD for feature PAY_2 is 0, so replacing it with 1.0 to avoid error.\n",
      "WARNING:root: MAD for feature PAY_3 is 0, so replacing it with 1.0 to avoid error.\n",
      "WARNING:root: MAD for feature PAY_4 is 0, so replacing it with 1.0 to avoid error.\n",
      "WARNING:root: MAD for feature PAY_5 is 0, so replacing it with 1.0 to avoid error.\n",
      "WARNING:root: MAD for feature PAY_6 is 0, so replacing it with 1.0 to avoid error.\n",
      "100%|██████████| 1/1 [03:10<00:00, 190.40s/it]"
     ]
    },
    {
     "name": "stdout",
     "output_type": "stream",
     "text": [
      "Diverse Counterfactuals found! total time taken: 00 min 20 sec\n"
     ]
    },
    {
     "name": "stderr",
     "output_type": "stream",
     "text": [
      "\n"
     ]
    }
   ],
   "source": [
    "result3 = dice.generate_counterfactuals(query_instances=POIs.iloc[:1], total_CFs=2, desired_class=1, sparsity_weight=0, diversity_weight=0, proximity_weight=5)\n",
    "adapter.inverse_transform(result3.cf_examples_list[0].final_cfs_df)"
   ]
  },
  {
   "cell_type": "code",
   "execution_count": 203,
   "metadata": {},
   "outputs": [
    {
     "name": "stderr",
     "output_type": "stream",
     "text": [
      "  0%|          | 0/1 [00:00<?, ?it/s]WARNING:root: MAD for feature PAY_1 is 0, so replacing it with 1.0 to avoid error.\n",
      "WARNING:root: MAD for feature PAY_2 is 0, so replacing it with 1.0 to avoid error.\n",
      "WARNING:root: MAD for feature PAY_3 is 0, so replacing it with 1.0 to avoid error.\n",
      "WARNING:root: MAD for feature PAY_4 is 0, so replacing it with 1.0 to avoid error.\n",
      "WARNING:root: MAD for feature PAY_5 is 0, so replacing it with 1.0 to avoid error.\n",
      "WARNING:root: MAD for feature PAY_6 is 0, so replacing it with 1.0 to avoid error.\n",
      "100%|██████████| 1/1 [02:20<00:00, 140.22s/it]"
     ]
    },
    {
     "name": "stdout",
     "output_type": "stream",
     "text": [
      "Diverse Counterfactuals found! total time taken: 00 min 21 sec\n"
     ]
    },
    {
     "name": "stderr",
     "output_type": "stream",
     "text": [
      "\n"
     ]
    },
    {
     "data": {
      "text/html": [
       "<div>\n",
       "<style scoped>\n",
       "    .dataframe tbody tr th:only-of-type {\n",
       "        vertical-align: middle;\n",
       "    }\n",
       "\n",
       "    .dataframe tbody tr th {\n",
       "        vertical-align: top;\n",
       "    }\n",
       "\n",
       "    .dataframe thead th {\n",
       "        text-align: right;\n",
       "    }\n",
       "</style>\n",
       "<table border=\"1\" class=\"dataframe\">\n",
       "  <thead>\n",
       "    <tr style=\"text-align: right;\">\n",
       "      <th></th>\n",
       "      <th>LIMIT_BAL</th>\n",
       "      <th>AGE</th>\n",
       "      <th>PAY_1</th>\n",
       "      <th>PAY_2</th>\n",
       "      <th>PAY_3</th>\n",
       "      <th>PAY_4</th>\n",
       "      <th>PAY_5</th>\n",
       "      <th>PAY_6</th>\n",
       "      <th>BILL_AMT1</th>\n",
       "      <th>BILL_AMT2</th>\n",
       "      <th>...</th>\n",
       "      <th>BILL_AMT4</th>\n",
       "      <th>BILL_AMT5</th>\n",
       "      <th>BILL_AMT6</th>\n",
       "      <th>PAY_AMT1</th>\n",
       "      <th>PAY_AMT2</th>\n",
       "      <th>PAY_AMT3</th>\n",
       "      <th>PAY_AMT4</th>\n",
       "      <th>PAY_AMT5</th>\n",
       "      <th>PAY_AMT6</th>\n",
       "      <th>Y</th>\n",
       "    </tr>\n",
       "  </thead>\n",
       "  <tbody>\n",
       "    <tr>\n",
       "      <th>0</th>\n",
       "      <td>297753.9375</td>\n",
       "      <td>40.810200</td>\n",
       "      <td>0.344048</td>\n",
       "      <td>0.308905</td>\n",
       "      <td>0.29519</td>\n",
       "      <td>0.254095</td>\n",
       "      <td>0.21481</td>\n",
       "      <td>0.223286</td>\n",
       "      <td>124630.851562</td>\n",
       "      <td>120197.101562</td>\n",
       "      <td>...</td>\n",
       "      <td>107569.539062</td>\n",
       "      <td>100945.46875</td>\n",
       "      <td>98215.96875</td>\n",
       "      <td>5625.100586</td>\n",
       "      <td>12886.784180</td>\n",
       "      <td>8929.982422</td>\n",
       "      <td>8806.604492</td>\n",
       "      <td>9832.210938</td>\n",
       "      <td>10164.326172</td>\n",
       "      <td>1</td>\n",
       "    </tr>\n",
       "    <tr>\n",
       "      <th>1</th>\n",
       "      <td>297753.9375</td>\n",
       "      <td>41.138721</td>\n",
       "      <td>0.344048</td>\n",
       "      <td>0.308905</td>\n",
       "      <td>0.29519</td>\n",
       "      <td>0.254095</td>\n",
       "      <td>0.21481</td>\n",
       "      <td>0.223286</td>\n",
       "      <td>124630.851562</td>\n",
       "      <td>120197.101562</td>\n",
       "      <td>...</td>\n",
       "      <td>107569.539062</td>\n",
       "      <td>100945.46875</td>\n",
       "      <td>98215.96875</td>\n",
       "      <td>5625.100586</td>\n",
       "      <td>12360.105469</td>\n",
       "      <td>8627.440430</td>\n",
       "      <td>9302.266602</td>\n",
       "      <td>10270.052734</td>\n",
       "      <td>10793.949219</td>\n",
       "      <td>1</td>\n",
       "    </tr>\n",
       "  </tbody>\n",
       "</table>\n",
       "<p>2 rows × 21 columns</p>\n",
       "</div>"
      ],
      "text/plain": [
       "     LIMIT_BAL        AGE     PAY_1     PAY_2    PAY_3     PAY_4    PAY_5  \\\n",
       "0  297753.9375  40.810200  0.344048  0.308905  0.29519  0.254095  0.21481   \n",
       "1  297753.9375  41.138721  0.344048  0.308905  0.29519  0.254095  0.21481   \n",
       "\n",
       "      PAY_6      BILL_AMT1      BILL_AMT2  ...      BILL_AMT4     BILL_AMT5  \\\n",
       "0  0.223286  124630.851562  120197.101562  ...  107569.539062  100945.46875   \n",
       "1  0.223286  124630.851562  120197.101562  ...  107569.539062  100945.46875   \n",
       "\n",
       "     BILL_AMT6     PAY_AMT1      PAY_AMT2     PAY_AMT3     PAY_AMT4  \\\n",
       "0  98215.96875  5625.100586  12886.784180  8929.982422  8806.604492   \n",
       "1  98215.96875  5625.100586  12360.105469  8627.440430  9302.266602   \n",
       "\n",
       "       PAY_AMT5      PAY_AMT6  Y  \n",
       "0   9832.210938  10164.326172  1  \n",
       "1  10270.052734  10793.949219  1  \n",
       "\n",
       "[2 rows x 21 columns]"
      ]
     },
     "execution_count": 203,
     "metadata": {},
     "output_type": "execute_result"
    }
   ],
   "source": [
    "result4 = dice.generate_counterfactuals(query_instances=POIs.iloc[:1], total_CFs=2, desired_class=1, sparsity_weight=0.2, diversity_weight=0.2, proximity_weight=0.5)\n",
    "adapter.inverse_transform(result4.cf_examples_list[0].final_cfs_df)"
   ]
  },
  {
   "cell_type": "code",
   "execution_count": null,
   "metadata": {},
   "outputs": [],
   "source": []
  }
 ],
 "metadata": {
  "kernelspec": {
   "display_name": "Python 3.8.10 ('.venv')",
   "language": "python",
   "name": "python3"
  },
  "language_info": {
   "codemirror_mode": {
    "name": "ipython",
    "version": 3
   },
   "file_extension": ".py",
   "mimetype": "text/x-python",
   "name": "python",
   "nbconvert_exporter": "python",
   "pygments_lexer": "ipython3",
   "version": "3.8.10"
  },
  "orig_nbformat": 4,
  "vscode": {
   "interpreter": {
    "hash": "544bbcec4a3402c4ea95887680bbb478b7040f8d29544f0f161653d15df00b63"
   }
  }
 },
 "nbformat": 4,
 "nbformat_minor": 2
}
