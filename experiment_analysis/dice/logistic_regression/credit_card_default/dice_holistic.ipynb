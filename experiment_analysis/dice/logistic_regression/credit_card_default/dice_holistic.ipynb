{
 "cells": [
  {
   "attachments": {},
   "cell_type": "markdown",
   "metadata": {},
   "source": [
    "# DICE Holistic Results"
   ]
  },
  {
   "cell_type": "code",
   "execution_count": 107,
   "metadata": {},
   "outputs": [
    {
     "name": "stdout",
     "output_type": "stream",
     "text": [
      "The autoreload extension is already loaded. To reload it, use:\n",
      "  %reload_ext autoreload\n"
     ]
    }
   ],
   "source": [
    "import sys\n",
    "import os\n",
    "sys.path.append(os.path.join(os.getcwd(), '../..'))\n",
    "\n",
    "%load_ext autoreload\n",
    "%autoreload 2\n",
    "\n",
    "import pandas as pd\n",
    "import numpy as np\n",
    "from sklearn import neighbors\n",
    "from sklearn import model_selection\n",
    "from sklearn import manifold\n",
    "import joblib\n",
    "from scripts import fit_kde\n",
    "import json\n",
    "\n",
    "import matplotlib.pyplot as plt\n",
    "import seaborn as sns\n",
    "from models import model_interface, model_loader, model_constants\n",
    "from data import data_loader\n",
    "from data.adapters import continuous_adapter"
   ]
  },
  {
   "cell_type": "code",
   "execution_count": 2,
   "metadata": {},
   "outputs": [],
   "source": [
    "RECOURSE_METHOD = 'dice'\n",
    "RESULTS_DIR = '../../experiment_results/dice/dice_holistic'"
   ]
  },
  {
   "cell_type": "markdown",
   "metadata": {},
   "source": [
    "# Preliminaries -- load everything"
   ]
  },
  {
   "cell_type": "code",
   "execution_count": 4,
   "metadata": {},
   "outputs": [
    {
     "data": {
      "text/html": [
       "<div>\n",
       "<style scoped>\n",
       "    .dataframe tbody tr th:only-of-type {\n",
       "        vertical-align: middle;\n",
       "    }\n",
       "\n",
       "    .dataframe tbody tr th {\n",
       "        vertical-align: top;\n",
       "    }\n",
       "\n",
       "    .dataframe thead th {\n",
       "        text-align: right;\n",
       "    }\n",
       "</style>\n",
       "<table border=\"1\" class=\"dataframe\">\n",
       "  <thead>\n",
       "    <tr style=\"text-align: right;\">\n",
       "      <th></th>\n",
       "      <th>batch_id</th>\n",
       "      <th>run_id</th>\n",
       "      <th>run_seed</th>\n",
       "      <th>confidence_cutoff</th>\n",
       "      <th>max_iterations</th>\n",
       "      <th>noise_ratio</th>\n",
       "      <th>num_paths</th>\n",
       "      <th>poi_index</th>\n",
       "      <th>rescale_ratio</th>\n",
       "      <th>elapsed_recourse_seconds</th>\n",
       "    </tr>\n",
       "  </thead>\n",
       "  <tbody>\n",
       "    <tr>\n",
       "      <th>0</th>\n",
       "      <td>402</td>\n",
       "      <td>402</td>\n",
       "      <td>7527</td>\n",
       "      <td>0.7</td>\n",
       "      <td>50</td>\n",
       "      <td>NaN</td>\n",
       "      <td>3</td>\n",
       "      <td>10084</td>\n",
       "      <td>NaN</td>\n",
       "      <td>1.195662</td>\n",
       "    </tr>\n",
       "    <tr>\n",
       "      <th>1</th>\n",
       "      <td>688</td>\n",
       "      <td>688</td>\n",
       "      <td>7527</td>\n",
       "      <td>0.7</td>\n",
       "      <td>50</td>\n",
       "      <td>NaN</td>\n",
       "      <td>3</td>\n",
       "      <td>21148</td>\n",
       "      <td>NaN</td>\n",
       "      <td>1.087155</td>\n",
       "    </tr>\n",
       "    <tr>\n",
       "      <th>2</th>\n",
       "      <td>352</td>\n",
       "      <td>352</td>\n",
       "      <td>7527</td>\n",
       "      <td>0.7</td>\n",
       "      <td>50</td>\n",
       "      <td>NaN</td>\n",
       "      <td>3</td>\n",
       "      <td>27716</td>\n",
       "      <td>NaN</td>\n",
       "      <td>1.081702</td>\n",
       "    </tr>\n",
       "    <tr>\n",
       "      <th>3</th>\n",
       "      <td>831</td>\n",
       "      <td>831</td>\n",
       "      <td>7527</td>\n",
       "      <td>0.7</td>\n",
       "      <td>50</td>\n",
       "      <td>NaN</td>\n",
       "      <td>3</td>\n",
       "      <td>13501</td>\n",
       "      <td>NaN</td>\n",
       "      <td>1.078059</td>\n",
       "    </tr>\n",
       "    <tr>\n",
       "      <th>4</th>\n",
       "      <td>225</td>\n",
       "      <td>225</td>\n",
       "      <td>7527</td>\n",
       "      <td>0.7</td>\n",
       "      <td>50</td>\n",
       "      <td>NaN</td>\n",
       "      <td>3</td>\n",
       "      <td>14811</td>\n",
       "      <td>NaN</td>\n",
       "      <td>1.073128</td>\n",
       "    </tr>\n",
       "    <tr>\n",
       "      <th>...</th>\n",
       "      <td>...</td>\n",
       "      <td>...</td>\n",
       "      <td>...</td>\n",
       "      <td>...</td>\n",
       "      <td>...</td>\n",
       "      <td>...</td>\n",
       "      <td>...</td>\n",
       "      <td>...</td>\n",
       "      <td>...</td>\n",
       "      <td>...</td>\n",
       "    </tr>\n",
       "    <tr>\n",
       "      <th>1133</th>\n",
       "      <td>503</td>\n",
       "      <td>503</td>\n",
       "      <td>7527</td>\n",
       "      <td>0.7</td>\n",
       "      <td>50</td>\n",
       "      <td>NaN</td>\n",
       "      <td>3</td>\n",
       "      <td>13027</td>\n",
       "      <td>NaN</td>\n",
       "      <td>1.016606</td>\n",
       "    </tr>\n",
       "    <tr>\n",
       "      <th>1134</th>\n",
       "      <td>386</td>\n",
       "      <td>386</td>\n",
       "      <td>7527</td>\n",
       "      <td>0.7</td>\n",
       "      <td>50</td>\n",
       "      <td>NaN</td>\n",
       "      <td>3</td>\n",
       "      <td>12533</td>\n",
       "      <td>NaN</td>\n",
       "      <td>1.019117</td>\n",
       "    </tr>\n",
       "    <tr>\n",
       "      <th>1135</th>\n",
       "      <td>767</td>\n",
       "      <td>767</td>\n",
       "      <td>7527</td>\n",
       "      <td>0.7</td>\n",
       "      <td>50</td>\n",
       "      <td>NaN</td>\n",
       "      <td>3</td>\n",
       "      <td>16635</td>\n",
       "      <td>NaN</td>\n",
       "      <td>1.019278</td>\n",
       "    </tr>\n",
       "    <tr>\n",
       "      <th>1136</th>\n",
       "      <td>260</td>\n",
       "      <td>260</td>\n",
       "      <td>7527</td>\n",
       "      <td>0.7</td>\n",
       "      <td>50</td>\n",
       "      <td>NaN</td>\n",
       "      <td>3</td>\n",
       "      <td>28861</td>\n",
       "      <td>NaN</td>\n",
       "      <td>1.020853</td>\n",
       "    </tr>\n",
       "    <tr>\n",
       "      <th>1137</th>\n",
       "      <td>751</td>\n",
       "      <td>751</td>\n",
       "      <td>7527</td>\n",
       "      <td>0.7</td>\n",
       "      <td>50</td>\n",
       "      <td>NaN</td>\n",
       "      <td>3</td>\n",
       "      <td>12206</td>\n",
       "      <td>NaN</td>\n",
       "      <td>1.019311</td>\n",
       "    </tr>\n",
       "  </tbody>\n",
       "</table>\n",
       "<p>1138 rows × 10 columns</p>\n",
       "</div>"
      ],
      "text/plain": [
       "      batch_id  run_id  run_seed  confidence_cutoff  max_iterations  \\\n",
       "0          402     402      7527                0.7              50   \n",
       "1          688     688      7527                0.7              50   \n",
       "2          352     352      7527                0.7              50   \n",
       "3          831     831      7527                0.7              50   \n",
       "4          225     225      7527                0.7              50   \n",
       "...        ...     ...       ...                ...             ...   \n",
       "1133       503     503      7527                0.7              50   \n",
       "1134       386     386      7527                0.7              50   \n",
       "1135       767     767      7527                0.7              50   \n",
       "1136       260     260      7527                0.7              50   \n",
       "1137       751     751      7527                0.7              50   \n",
       "\n",
       "      noise_ratio  num_paths  poi_index  rescale_ratio  \\\n",
       "0             NaN          3      10084            NaN   \n",
       "1             NaN          3      21148            NaN   \n",
       "2             NaN          3      27716            NaN   \n",
       "3             NaN          3      13501            NaN   \n",
       "4             NaN          3      14811            NaN   \n",
       "...           ...        ...        ...            ...   \n",
       "1133          NaN          3      13027            NaN   \n",
       "1134          NaN          3      12533            NaN   \n",
       "1135          NaN          3      16635            NaN   \n",
       "1136          NaN          3      28861            NaN   \n",
       "1137          NaN          3      12206            NaN   \n",
       "\n",
       "      elapsed_recourse_seconds  \n",
       "0                     1.195662  \n",
       "1                     1.087155  \n",
       "2                     1.081702  \n",
       "3                     1.078059  \n",
       "4                     1.073128  \n",
       "...                        ...  \n",
       "1133                  1.016606  \n",
       "1134                  1.019117  \n",
       "1135                  1.019278  \n",
       "1136                  1.020853  \n",
       "1137                  1.019311  \n",
       "\n",
       "[1138 rows x 10 columns]"
      ]
     },
     "execution_count": 4,
     "metadata": {},
     "output_type": "execute_result"
    }
   ],
   "source": [
    "DATASET, DATASET_INFO = data_loader.load_data(data_loader.DatasetName('credit_card_default'), split=\"train\")\n",
    "MODEL = model_loader.load_model(model_constants.ModelType('logistic_regression'), data_loader.DatasetName('credit_card_default'))\n",
    "ADAPTER = continuous_adapter.StandardizingAdapter(\n",
    "    label_column = DATASET_INFO.label_column, positive_label=DATASET_INFO.positive_label\n",
    ").fit(DATASET)\n",
    "\n",
    "DROP_COLUMNS = ['step_id', 'path_id', 'run_id', 'batch_id']  # columns which are convenient to drop from the path_df\n",
    "\n",
    "with open(os.path.join(RESULTS_DIR, 'config.json')) as f:\n",
    "    config_json = json.load(f)\n",
    "\n",
    "EVAL_SPLIT = config_json['split']\n",
    "\n",
    "EVAL_DATASET, _ = data_loader.load_data(data_loader.DatasetName('credit_card_default'), split=EVAL_SPLIT)\n",
    "\n",
    "config_df = pd.read_csv(os.path.join(RESULTS_DIR, 'experiment_config_df.csv'))\n",
    "path_df = pd.read_csv(os.path.join(RESULTS_DIR, f'{RECOURSE_METHOD}_paths_df.csv'))\n",
    "config_df"
   ]
  },
  {
   "attachments": {},
   "cell_type": "markdown",
   "metadata": {},
   "source": [
    "## Load or Fit a KDE"
   ]
  },
  {
   "cell_type": "code",
   "execution_count": 5,
   "metadata": {},
   "outputs": [],
   "source": [
    "KDE_DIRECTORY = '../../saved_models/kde/credit_card_default_kde.joblib'\n",
    "\n",
    "if os.path.exists(KDE_DIRECTORY):\n",
    "    KDE = joblib.load(KDE_DIRECTORY)\n",
    "else:\n",
    "    KDE = fit_kde.fit_kde('credit_card_default', KDE_DIRECTORY)"
   ]
  },
  {
   "attachments": {},
   "cell_type": "markdown",
   "metadata": {},
   "source": [
    "# Analyze the results"
   ]
  },
  {
   "cell_type": "code",
   "execution_count": 7,
   "metadata": {},
   "outputs": [
    {
     "name": "stderr",
     "output_type": "stream",
     "text": [
      "/tmp/ipykernel_1156/2276747017.py:10: SettingWithCopyWarning: \n",
      "A value is trying to be set on a copy of a slice from a DataFrame\n",
      "\n",
      "See the caveats in the documentation: https://pandas.pydata.org/pandas-docs/stable/user_guide/indexing.html#returning-a-view-versus-a-copy\n",
      "  pathscopy.loc[:,'next_step_id'].iloc[0:-1] = pathscopy.loc[:,'step_id'].iloc[1:]\n"
     ]
    },
    {
     "data": {
      "text/html": [
       "<div>\n",
       "<style scoped>\n",
       "    .dataframe tbody tr th:only-of-type {\n",
       "        vertical-align: middle;\n",
       "    }\n",
       "\n",
       "    .dataframe tbody tr th {\n",
       "        vertical-align: top;\n",
       "    }\n",
       "\n",
       "    .dataframe thead th {\n",
       "        text-align: right;\n",
       "    }\n",
       "</style>\n",
       "<table border=\"1\" class=\"dataframe\">\n",
       "  <thead>\n",
       "    <tr style=\"text-align: right;\">\n",
       "      <th></th>\n",
       "      <th>run_id</th>\n",
       "      <th>path_id</th>\n",
       "      <th>success</th>\n",
       "      <th>proximity</th>\n",
       "      <th>path_length</th>\n",
       "      <th>iteration_count</th>\n",
       "      <th>poi_density</th>\n",
       "      <th>cfe_density</th>\n",
       "      <th>actual_sparsity</th>\n",
       "      <th>batch_id</th>\n",
       "      <th>confidence_cutoff</th>\n",
       "      <th>num_paths</th>\n",
       "      <th>poi_index</th>\n",
       "      <th>elapsed_recourse_seconds</th>\n",
       "    </tr>\n",
       "  </thead>\n",
       "  <tbody>\n",
       "    <tr>\n",
       "      <th>0</th>\n",
       "      <td>402.0</td>\n",
       "      <td>0.0</td>\n",
       "      <td>1.0</td>\n",
       "      <td>56.478818</td>\n",
       "      <td>56.478818</td>\n",
       "      <td>2.0</td>\n",
       "      <td>0.378108</td>\n",
       "      <td>-16228.014838</td>\n",
       "      <td>2.0</td>\n",
       "      <td>402</td>\n",
       "      <td>0.7</td>\n",
       "      <td>3</td>\n",
       "      <td>10084</td>\n",
       "      <td>1.195662</td>\n",
       "    </tr>\n",
       "    <tr>\n",
       "      <th>1</th>\n",
       "      <td>402.0</td>\n",
       "      <td>1.0</td>\n",
       "      <td>1.0</td>\n",
       "      <td>17.642628</td>\n",
       "      <td>17.642628</td>\n",
       "      <td>2.0</td>\n",
       "      <td>0.378108</td>\n",
       "      <td>-386.280826</td>\n",
       "      <td>2.0</td>\n",
       "      <td>402</td>\n",
       "      <td>0.7</td>\n",
       "      <td>3</td>\n",
       "      <td>10084</td>\n",
       "      <td>1.195662</td>\n",
       "    </tr>\n",
       "    <tr>\n",
       "      <th>2</th>\n",
       "      <td>402.0</td>\n",
       "      <td>2.0</td>\n",
       "      <td>1.0</td>\n",
       "      <td>39.842674</td>\n",
       "      <td>39.842674</td>\n",
       "      <td>2.0</td>\n",
       "      <td>0.378108</td>\n",
       "      <td>-1936.677347</td>\n",
       "      <td>2.0</td>\n",
       "      <td>402</td>\n",
       "      <td>0.7</td>\n",
       "      <td>3</td>\n",
       "      <td>10084</td>\n",
       "      <td>1.195662</td>\n",
       "    </tr>\n",
       "    <tr>\n",
       "      <th>3</th>\n",
       "      <td>688.0</td>\n",
       "      <td>0.0</td>\n",
       "      <td>1.0</td>\n",
       "      <td>63.502633</td>\n",
       "      <td>63.502633</td>\n",
       "      <td>2.0</td>\n",
       "      <td>2.416545</td>\n",
       "      <td>-6082.074205</td>\n",
       "      <td>2.0</td>\n",
       "      <td>688</td>\n",
       "      <td>0.7</td>\n",
       "      <td>3</td>\n",
       "      <td>21148</td>\n",
       "      <td>1.087155</td>\n",
       "    </tr>\n",
       "    <tr>\n",
       "      <th>4</th>\n",
       "      <td>688.0</td>\n",
       "      <td>1.0</td>\n",
       "      <td>1.0</td>\n",
       "      <td>39.301447</td>\n",
       "      <td>39.301447</td>\n",
       "      <td>2.0</td>\n",
       "      <td>2.416545</td>\n",
       "      <td>-2118.546466</td>\n",
       "      <td>2.0</td>\n",
       "      <td>688</td>\n",
       "      <td>0.7</td>\n",
       "      <td>3</td>\n",
       "      <td>21148</td>\n",
       "      <td>1.087155</td>\n",
       "    </tr>\n",
       "    <tr>\n",
       "      <th>...</th>\n",
       "      <td>...</td>\n",
       "      <td>...</td>\n",
       "      <td>...</td>\n",
       "      <td>...</td>\n",
       "      <td>...</td>\n",
       "      <td>...</td>\n",
       "      <td>...</td>\n",
       "      <td>...</td>\n",
       "      <td>...</td>\n",
       "      <td>...</td>\n",
       "      <td>...</td>\n",
       "      <td>...</td>\n",
       "      <td>...</td>\n",
       "      <td>...</td>\n",
       "    </tr>\n",
       "    <tr>\n",
       "      <th>3409</th>\n",
       "      <td>260.0</td>\n",
       "      <td>1.0</td>\n",
       "      <td>1.0</td>\n",
       "      <td>17.306896</td>\n",
       "      <td>17.306896</td>\n",
       "      <td>2.0</td>\n",
       "      <td>1.738925</td>\n",
       "      <td>-26.973277</td>\n",
       "      <td>2.0</td>\n",
       "      <td>260</td>\n",
       "      <td>0.7</td>\n",
       "      <td>3</td>\n",
       "      <td>28861</td>\n",
       "      <td>1.020853</td>\n",
       "    </tr>\n",
       "    <tr>\n",
       "      <th>3410</th>\n",
       "      <td>260.0</td>\n",
       "      <td>2.0</td>\n",
       "      <td>1.0</td>\n",
       "      <td>59.581803</td>\n",
       "      <td>59.581803</td>\n",
       "      <td>2.0</td>\n",
       "      <td>1.738925</td>\n",
       "      <td>-4471.161461</td>\n",
       "      <td>1.0</td>\n",
       "      <td>260</td>\n",
       "      <td>0.7</td>\n",
       "      <td>3</td>\n",
       "      <td>28861</td>\n",
       "      <td>1.020853</td>\n",
       "    </tr>\n",
       "    <tr>\n",
       "      <th>3411</th>\n",
       "      <td>751.0</td>\n",
       "      <td>0.0</td>\n",
       "      <td>1.0</td>\n",
       "      <td>47.676478</td>\n",
       "      <td>47.676478</td>\n",
       "      <td>2.0</td>\n",
       "      <td>-3.018856</td>\n",
       "      <td>-10552.997066</td>\n",
       "      <td>2.0</td>\n",
       "      <td>751</td>\n",
       "      <td>0.7</td>\n",
       "      <td>3</td>\n",
       "      <td>12206</td>\n",
       "      <td>1.019311</td>\n",
       "    </tr>\n",
       "    <tr>\n",
       "      <th>3412</th>\n",
       "      <td>751.0</td>\n",
       "      <td>1.0</td>\n",
       "      <td>1.0</td>\n",
       "      <td>13.712967</td>\n",
       "      <td>13.712967</td>\n",
       "      <td>2.0</td>\n",
       "      <td>-3.018856</td>\n",
       "      <td>-35.961617</td>\n",
       "      <td>1.0</td>\n",
       "      <td>751</td>\n",
       "      <td>0.7</td>\n",
       "      <td>3</td>\n",
       "      <td>12206</td>\n",
       "      <td>1.019311</td>\n",
       "    </tr>\n",
       "    <tr>\n",
       "      <th>3413</th>\n",
       "      <td>751.0</td>\n",
       "      <td>2.0</td>\n",
       "      <td>1.0</td>\n",
       "      <td>22.317926</td>\n",
       "      <td>22.317926</td>\n",
       "      <td>2.0</td>\n",
       "      <td>-3.018856</td>\n",
       "      <td>-607.432689</td>\n",
       "      <td>1.0</td>\n",
       "      <td>751</td>\n",
       "      <td>0.7</td>\n",
       "      <td>3</td>\n",
       "      <td>12206</td>\n",
       "      <td>1.019311</td>\n",
       "    </tr>\n",
       "  </tbody>\n",
       "</table>\n",
       "<p>3414 rows × 14 columns</p>\n",
       "</div>"
      ],
      "text/plain": [
       "      run_id  path_id  success  proximity  path_length  iteration_count  \\\n",
       "0      402.0      0.0      1.0  56.478818    56.478818              2.0   \n",
       "1      402.0      1.0      1.0  17.642628    17.642628              2.0   \n",
       "2      402.0      2.0      1.0  39.842674    39.842674              2.0   \n",
       "3      688.0      0.0      1.0  63.502633    63.502633              2.0   \n",
       "4      688.0      1.0      1.0  39.301447    39.301447              2.0   \n",
       "...      ...      ...      ...        ...          ...              ...   \n",
       "3409   260.0      1.0      1.0  17.306896    17.306896              2.0   \n",
       "3410   260.0      2.0      1.0  59.581803    59.581803              2.0   \n",
       "3411   751.0      0.0      1.0  47.676478    47.676478              2.0   \n",
       "3412   751.0      1.0      1.0  13.712967    13.712967              2.0   \n",
       "3413   751.0      2.0      1.0  22.317926    22.317926              2.0   \n",
       "\n",
       "      poi_density   cfe_density  actual_sparsity  batch_id  confidence_cutoff  \\\n",
       "0        0.378108 -16228.014838              2.0       402                0.7   \n",
       "1        0.378108   -386.280826              2.0       402                0.7   \n",
       "2        0.378108  -1936.677347              2.0       402                0.7   \n",
       "3        2.416545  -6082.074205              2.0       688                0.7   \n",
       "4        2.416545  -2118.546466              2.0       688                0.7   \n",
       "...           ...           ...              ...       ...                ...   \n",
       "3409     1.738925    -26.973277              2.0       260                0.7   \n",
       "3410     1.738925  -4471.161461              1.0       260                0.7   \n",
       "3411    -3.018856 -10552.997066              2.0       751                0.7   \n",
       "3412    -3.018856    -35.961617              1.0       751                0.7   \n",
       "3413    -3.018856   -607.432689              1.0       751                0.7   \n",
       "\n",
       "      num_paths  poi_index  elapsed_recourse_seconds  \n",
       "0             3      10084                  1.195662  \n",
       "1             3      10084                  1.195662  \n",
       "2             3      10084                  1.195662  \n",
       "3             3      21148                  1.087155  \n",
       "4             3      21148                  1.087155  \n",
       "...         ...        ...                       ...  \n",
       "3409          3      28861                  1.020853  \n",
       "3410          3      28861                  1.020853  \n",
       "3411          3      12206                  1.019311  \n",
       "3412          3      12206                  1.019311  \n",
       "3413          3      12206                  1.019311  \n",
       "\n",
       "[3414 rows x 14 columns]"
      ]
     },
     "execution_count": 7,
     "metadata": {},
     "output_type": "execute_result"
    }
   ],
   "source": [
    "SPARSITY_EPSILON = 1e-5\n",
    "\n",
    "def get_poi_cfes(path_df: pd.DataFrame):\n",
    "    \"\"\"Isolate the POIs (Points of Interest) and CFEs (Counterfactual Examples) from the full path results.\n",
    "    \n",
    "    POIs and CFEs are listed in the order they originally appear in. There is one POI and one CFE\n",
    "    for every path that appears in the DataFrame.\"\"\"\n",
    "    pathscopy = path_df.copy()\n",
    "    pathscopy['next_step_id'] = 0\n",
    "    pathscopy.loc[:,'next_step_id'].iloc[0:-1] = pathscopy.loc[:,'step_id'].iloc[1:]\n",
    "    cfes = pathscopy[pathscopy.step_id >= pathscopy.next_step_id].drop(columns='next_step_id')\n",
    "    return pathscopy[pathscopy.step_id == 0].drop(columns='next_step_id'), cfes\n",
    "\n",
    "def get_sparsity(path: pd.DataFrame):\n",
    "    \"\"\"Returns the maximum number of features changed in any single iteration\n",
    "    along the path.\"\"\"\n",
    "    if path.shape[0] == 1:\n",
    "        return np.nan\n",
    "    path_sparsity = np.zeros(path.shape[0])\n",
    "    for i in range(1, path.shape[0]):\n",
    "        path_sparsity[i] = (np.abs(path.iloc[i] - path.iloc[i - 1]) > SPARSITY_EPSILON).sum()\n",
    "    return np.max(path_sparsity)\n",
    "\n",
    "def get_path_length(path: pd.DataFrame):\n",
    "    \"\"\"Returns the sum of euclidean distances along the path.\"\"\"\n",
    "    total = 0\n",
    "    for i in range(1, path.shape[0]):\n",
    "        total += np.linalg.norm(path.iloc[i] - path.iloc[i - 1])\n",
    "    if total == 0:\n",
    "        return np.nan\n",
    "    return total\n",
    "\n",
    "def get_cfe_distance(path: pd.DataFrame):\n",
    "    \"\"\"Returns the euclidean distance between the first and last points in the path.\"\"\"\n",
    "    if len(path) == 1:\n",
    "        return np.nan\n",
    "    return np.linalg.norm(path.iloc[-1] - path.iloc[0])\n",
    "\n",
    "\n",
    "def analyze_paths(paths: pd.DataFrame, poi_kdes, cfe_kdes, cfe_probs, config_df):\n",
    "    \"\"\"Returns a DataFrame containing per-path results.\n",
    "    \n",
    "    Each row corresponds to a specific path. Each column is a result metric.\n",
    "    \n",
    "    Args:\n",
    "        paths: The path_df DataFrame to analyze.\n",
    "        poi_kdes: The KDE scores for the POIs.\n",
    "        cfe_kdes: The KDE scores for the CFEs.\n",
    "        config_df: The experiment_config_df for the experiment.\"\"\"\n",
    "    columns = ['run_id', 'path_id', 'success', 'proximity', 'path_length',\n",
    "               'iteration_count', 'poi_density', 'cfe_density', \n",
    "               'actual_sparsity']\n",
    "    col_idx = {}\n",
    "    for i, col in enumerate(columns):\n",
    "        col_idx[col] = i\n",
    "\n",
    "    results = np.zeros((len(poi_kdes), len(columns)))\n",
    "\n",
    "    i = 0\n",
    "    for run_id in paths.run_id.unique():\n",
    "        run_paths = paths[paths.run_id == run_id]\n",
    "        for path_id in run_paths.path_id.unique():\n",
    "            path = ADAPTER.transform(run_paths[run_paths.path_id == path_id].drop(columns=DROP_COLUMNS))\n",
    "            results[i,col_idx['run_id']] = run_id\n",
    "            results[i,col_idx['path_id']] = path_id\n",
    "\n",
    "            desired_proba = config_df[config_df.run_id == run_id].confidence_cutoff.iloc[0]\n",
    "            actual_proba = cfe_probs[i]\n",
    "\n",
    "            results[i,col_idx['success']] = 1 if actual_proba >= desired_proba else 0\n",
    "            results[i,col_idx['path_length']] = get_path_length(path)\n",
    "            results[i,col_idx['iteration_count']] = len(path)\n",
    "            results[i,col_idx['proximity']] = get_cfe_distance(path)\n",
    "            results[i,col_idx['poi_density']] = poi_kdes[i]\n",
    "            results[i,col_idx['cfe_density']] = cfe_kdes[i]\n",
    "            results[i,col_idx['actual_sparsity']] = get_sparsity(path)\n",
    "            i += 1\n",
    "\n",
    "    return pd.DataFrame(data=results, columns=columns)\n",
    "\n",
    "pois, cfes = get_poi_cfes(path_df)\n",
    "poi_kdes = KDE.score_samples(ADAPTER.transform(pois.drop(columns=DROP_COLUMNS)))\n",
    "cfe_kdes = KDE.score_samples(ADAPTER.transform(cfes.drop(columns=DROP_COLUMNS)))\n",
    "cfe_probs = MODEL.predict_pos_proba(cfes.drop(columns=DROP_COLUMNS)).to_numpy()\n",
    "\n",
    "results = analyze_paths(path_df, poi_kdes, cfe_kdes, cfe_probs, config_df)\n",
    "results = results.merge(config_df, how='left', on='run_id').drop(\n",
    "    columns=['max_iterations', 'noise_ratio',\n",
    "             'rescale_ratio', 'run_seed'])  # uninteresting columns\n",
    "results"
   ]
  },
  {
   "attachments": {},
   "cell_type": "markdown",
   "metadata": {},
   "source": [
    "# Success\n",
    "\n",
    "StEP always succeeds"
   ]
  },
  {
   "cell_type": "code",
   "execution_count": 8,
   "metadata": {},
   "outputs": [
    {
     "data": {
      "text/html": [
       "<div>\n",
       "<style scoped>\n",
       "    .dataframe tbody tr th:only-of-type {\n",
       "        vertical-align: middle;\n",
       "    }\n",
       "\n",
       "    .dataframe tbody tr th {\n",
       "        vertical-align: top;\n",
       "    }\n",
       "\n",
       "    .dataframe thead th {\n",
       "        text-align: right;\n",
       "    }\n",
       "</style>\n",
       "<table border=\"1\" class=\"dataframe\">\n",
       "  <thead>\n",
       "    <tr style=\"text-align: right;\">\n",
       "      <th></th>\n",
       "      <th>run_id</th>\n",
       "      <th>path_id</th>\n",
       "      <th>proximity</th>\n",
       "      <th>path_length</th>\n",
       "      <th>iteration_count</th>\n",
       "      <th>poi_density</th>\n",
       "      <th>cfe_density</th>\n",
       "      <th>actual_sparsity</th>\n",
       "      <th>batch_id</th>\n",
       "      <th>confidence_cutoff</th>\n",
       "      <th>num_paths</th>\n",
       "      <th>poi_index</th>\n",
       "      <th>elapsed_recourse_seconds</th>\n",
       "    </tr>\n",
       "    <tr>\n",
       "      <th>success</th>\n",
       "      <th></th>\n",
       "      <th></th>\n",
       "      <th></th>\n",
       "      <th></th>\n",
       "      <th></th>\n",
       "      <th></th>\n",
       "      <th></th>\n",
       "      <th></th>\n",
       "      <th></th>\n",
       "      <th></th>\n",
       "      <th></th>\n",
       "      <th></th>\n",
       "      <th></th>\n",
       "    </tr>\n",
       "  </thead>\n",
       "  <tbody>\n",
       "    <tr>\n",
       "      <th>1.0</th>\n",
       "      <td>3414</td>\n",
       "      <td>3414</td>\n",
       "      <td>3414</td>\n",
       "      <td>3414</td>\n",
       "      <td>3414</td>\n",
       "      <td>3414</td>\n",
       "      <td>3414</td>\n",
       "      <td>3414</td>\n",
       "      <td>3414</td>\n",
       "      <td>3414</td>\n",
       "      <td>3414</td>\n",
       "      <td>3414</td>\n",
       "      <td>3414</td>\n",
       "    </tr>\n",
       "  </tbody>\n",
       "</table>\n",
       "</div>"
      ],
      "text/plain": [
       "         run_id  path_id  proximity  path_length  iteration_count  \\\n",
       "success                                                             \n",
       "1.0        3414     3414       3414         3414             3414   \n",
       "\n",
       "         poi_density  cfe_density  actual_sparsity  batch_id  \\\n",
       "success                                                        \n",
       "1.0             3414         3414             3414      3414   \n",
       "\n",
       "         confidence_cutoff  num_paths  poi_index  elapsed_recourse_seconds  \n",
       "success                                                                     \n",
       "1.0                   3414       3414       3414                      3414  "
      ]
     },
     "execution_count": 8,
     "metadata": {},
     "output_type": "execute_result"
    }
   ],
   "source": [
    "DROP_METRICS = ['actual_sparsity', 'run_id', 'batch_id', 'confidence_cutoff', 'num_paths', 'elapsed_recourse_seconds']\n",
    "\n",
    "results.groupby('success').count()"
   ]
  },
  {
   "attachments": {},
   "cell_type": "markdown",
   "metadata": {},
   "source": [
    "# Iteration count\n",
    "\n",
    "DiCE is a counterfactual method, so it succeeds after one iteration."
   ]
  },
  {
   "cell_type": "code",
   "execution_count": 10,
   "metadata": {},
   "outputs": [
    {
     "data": {
      "text/html": [
       "<div>\n",
       "<style scoped>\n",
       "    .dataframe tbody tr th:only-of-type {\n",
       "        vertical-align: middle;\n",
       "    }\n",
       "\n",
       "    .dataframe tbody tr th {\n",
       "        vertical-align: top;\n",
       "    }\n",
       "\n",
       "    .dataframe thead th {\n",
       "        text-align: right;\n",
       "    }\n",
       "</style>\n",
       "<table border=\"1\" class=\"dataframe\">\n",
       "  <thead>\n",
       "    <tr style=\"text-align: right;\">\n",
       "      <th></th>\n",
       "      <th>run_id</th>\n",
       "      <th>path_id</th>\n",
       "      <th>success</th>\n",
       "      <th>proximity</th>\n",
       "      <th>path_length</th>\n",
       "      <th>poi_density</th>\n",
       "      <th>cfe_density</th>\n",
       "      <th>actual_sparsity</th>\n",
       "      <th>batch_id</th>\n",
       "      <th>confidence_cutoff</th>\n",
       "      <th>num_paths</th>\n",
       "      <th>poi_index</th>\n",
       "      <th>elapsed_recourse_seconds</th>\n",
       "    </tr>\n",
       "    <tr>\n",
       "      <th>iteration_count</th>\n",
       "      <th></th>\n",
       "      <th></th>\n",
       "      <th></th>\n",
       "      <th></th>\n",
       "      <th></th>\n",
       "      <th></th>\n",
       "      <th></th>\n",
       "      <th></th>\n",
       "      <th></th>\n",
       "      <th></th>\n",
       "      <th></th>\n",
       "      <th></th>\n",
       "      <th></th>\n",
       "    </tr>\n",
       "  </thead>\n",
       "  <tbody>\n",
       "    <tr>\n",
       "      <th>2.0</th>\n",
       "      <td>3414</td>\n",
       "      <td>3414</td>\n",
       "      <td>3414</td>\n",
       "      <td>3414</td>\n",
       "      <td>3414</td>\n",
       "      <td>3414</td>\n",
       "      <td>3414</td>\n",
       "      <td>3414</td>\n",
       "      <td>3414</td>\n",
       "      <td>3414</td>\n",
       "      <td>3414</td>\n",
       "      <td>3414</td>\n",
       "      <td>3414</td>\n",
       "    </tr>\n",
       "  </tbody>\n",
       "</table>\n",
       "</div>"
      ],
      "text/plain": [
       "                 run_id  path_id  success  proximity  path_length  \\\n",
       "iteration_count                                                     \n",
       "2.0                3414     3414     3414       3414         3414   \n",
       "\n",
       "                 poi_density  cfe_density  actual_sparsity  batch_id  \\\n",
       "iteration_count                                                        \n",
       "2.0                     3414         3414             3414      3414   \n",
       "\n",
       "                 confidence_cutoff  num_paths  poi_index  \\\n",
       "iteration_count                                            \n",
       "2.0                           3414       3414       3414   \n",
       "\n",
       "                 elapsed_recourse_seconds  \n",
       "iteration_count                            \n",
       "2.0                                  3414  "
      ]
     },
     "execution_count": 10,
     "metadata": {},
     "output_type": "execute_result"
    }
   ],
   "source": [
    "results.groupby('iteration_count').count()"
   ]
  },
  {
   "attachments": {},
   "cell_type": "markdown",
   "metadata": {},
   "source": [
    "# Proximity\n",
    "\n",
    "QUESTION: Why do some points have high proximity?"
   ]
  },
  {
   "cell_type": "code",
   "execution_count": 11,
   "metadata": {},
   "outputs": [
    {
     "data": {
      "text/plain": [
       "<AxesSubplot: xlabel='proximity', ylabel='Count'>"
      ]
     },
     "execution_count": 11,
     "metadata": {},
     "output_type": "execute_result"
    },
    {
     "data": {
      "image/png": "[encoded data removed]",
      "text/plain": [
       "<Figure size 640x480 with 1 Axes>"
      ]
     },
     "metadata": {},
     "output_type": "display_data"
    }
   ],
   "source": [
    "sns.histplot(results, x='proximity')"
   ]
  },
  {
   "attachments": {},
   "cell_type": "markdown",
   "metadata": {},
   "source": [
    "What about the minimum-path proximity? How does this look?"
   ]
  },
  {
   "cell_type": "code",
   "execution_count": 98,
   "metadata": {},
   "outputs": [
    {
     "data": {
      "text/plain": [
       "<AxesSubplot: xlabel='proximity', ylabel='Count'>"
      ]
     },
     "execution_count": 98,
     "metadata": {},
     "output_type": "execute_result"
    },
    {
     "data": {
      "image/png": "[encoded data removed]",
      "text/plain": [
       "<Figure size 640x480 with 1 Axes>"
      ]
     },
     "metadata": {},
     "output_type": "display_data"
    }
   ],
   "source": [
    "min_prox_results = results.sort_values(['run_id', 'proximity']).iloc[range(0, 3414, 3)]\n",
    "sns.histplot(min_prox_results, x='proximity')"
   ]
  },
  {
   "cell_type": "code",
   "execution_count": 136,
   "metadata": {},
   "outputs": [
    {
     "data": {
      "text/html": [
       "<div>\n",
       "<style scoped>\n",
       "    .dataframe tbody tr th:only-of-type {\n",
       "        vertical-align: middle;\n",
       "    }\n",
       "\n",
       "    .dataframe tbody tr th {\n",
       "        vertical-align: top;\n",
       "    }\n",
       "\n",
       "    .dataframe thead th {\n",
       "        text-align: right;\n",
       "    }\n",
       "</style>\n",
       "<table border=\"1\" class=\"dataframe\">\n",
       "  <thead>\n",
       "    <tr style=\"text-align: right;\">\n",
       "      <th></th>\n",
       "      <th>batch_id</th>\n",
       "      <th>run_id</th>\n",
       "      <th>run_seed</th>\n",
       "      <th>confidence_cutoff</th>\n",
       "      <th>max_iterations</th>\n",
       "      <th>noise_ratio</th>\n",
       "      <th>num_paths</th>\n",
       "      <th>poi_index</th>\n",
       "      <th>rescale_ratio</th>\n",
       "      <th>elapsed_recourse_seconds</th>\n",
       "    </tr>\n",
       "  </thead>\n",
       "  <tbody>\n",
       "    <tr>\n",
       "      <th>302</th>\n",
       "      <td>511</td>\n",
       "      <td>511</td>\n",
       "      <td>7527</td>\n",
       "      <td>0.7</td>\n",
       "      <td>50</td>\n",
       "      <td>NaN</td>\n",
       "      <td>3</td>\n",
       "      <td>5125</td>\n",
       "      <td>NaN</td>\n",
       "      <td>1.152144</td>\n",
       "    </tr>\n",
       "  </tbody>\n",
       "</table>\n",
       "</div>"
      ],
      "text/plain": [
       "     batch_id  run_id  run_seed  confidence_cutoff  max_iterations  \\\n",
       "302       511     511      7527                0.7              50   \n",
       "\n",
       "     noise_ratio  num_paths  poi_index  rescale_ratio  \\\n",
       "302          NaN          3       5125            NaN   \n",
       "\n",
       "     elapsed_recourse_seconds  \n",
       "302                  1.152144  "
      ]
     },
     "execution_count": 136,
     "metadata": {},
     "output_type": "execute_result"
    }
   ],
   "source": [
    "run_id = min_prox_results[min_prox_results.proximity > 60].run_id.iloc[0]\n",
    "\n",
    "config_df[config_df.run_id == run_id]"
   ]
  },
  {
   "cell_type": "code",
   "execution_count": 137,
   "metadata": {},
   "outputs": [
    {
     "data": {
      "text/html": [
       "<div>\n",
       "<style scoped>\n",
       "    .dataframe tbody tr th:only-of-type {\n",
       "        vertical-align: middle;\n",
       "    }\n",
       "\n",
       "    .dataframe tbody tr th {\n",
       "        vertical-align: top;\n",
       "    }\n",
       "\n",
       "    .dataframe thead th {\n",
       "        text-align: right;\n",
       "    }\n",
       "</style>\n",
       "<table border=\"1\" class=\"dataframe\">\n",
       "  <thead>\n",
       "    <tr style=\"text-align: right;\">\n",
       "      <th></th>\n",
       "      <th>run_id</th>\n",
       "      <th>path_id</th>\n",
       "      <th>success</th>\n",
       "      <th>proximity</th>\n",
       "      <th>path_length</th>\n",
       "      <th>iteration_count</th>\n",
       "      <th>poi_density</th>\n",
       "      <th>cfe_density</th>\n",
       "      <th>actual_sparsity</th>\n",
       "      <th>batch_id</th>\n",
       "      <th>confidence_cutoff</th>\n",
       "      <th>num_paths</th>\n",
       "      <th>poi_index</th>\n",
       "      <th>elapsed_recourse_seconds</th>\n",
       "    </tr>\n",
       "  </thead>\n",
       "  <tbody>\n",
       "    <tr>\n",
       "      <th>908</th>\n",
       "      <td>511.0</td>\n",
       "      <td>2.0</td>\n",
       "      <td>1.0</td>\n",
       "      <td>61.857773</td>\n",
       "      <td>61.857773</td>\n",
       "      <td>2.0</td>\n",
       "      <td>-10.056721</td>\n",
       "      <td>-5321.559612</td>\n",
       "      <td>1.0</td>\n",
       "      <td>511</td>\n",
       "      <td>0.7</td>\n",
       "      <td>3</td>\n",
       "      <td>5125</td>\n",
       "      <td>1.152144</td>\n",
       "    </tr>\n",
       "  </tbody>\n",
       "</table>\n",
       "</div>"
      ],
      "text/plain": [
       "     run_id  path_id  success  proximity  path_length  iteration_count  \\\n",
       "908   511.0      2.0      1.0  61.857773    61.857773              2.0   \n",
       "\n",
       "     poi_density  cfe_density  actual_sparsity  batch_id  confidence_cutoff  \\\n",
       "908   -10.056721 -5321.559612              1.0       511                0.7   \n",
       "\n",
       "     num_paths  poi_index  elapsed_recourse_seconds  \n",
       "908          3       5125                  1.152144  "
      ]
     },
     "execution_count": 137,
     "metadata": {},
     "output_type": "execute_result"
    }
   ],
   "source": [
    "min_prox_results[min_prox_results.proximity > 60]"
   ]
  },
  {
   "cell_type": "code",
   "execution_count": 106,
   "metadata": {},
   "outputs": [
    {
     "data": {
      "text/plain": [
       "AGE          0.000000e+00\n",
       "BILL_AMT1    7.275958e-12\n",
       "BILL_AMT2    0.000000e+00\n",
       "BILL_AMT3    0.000000e+00\n",
       "BILL_AMT4    0.000000e+00\n",
       "BILL_AMT5    0.000000e+00\n",
       "BILL_AMT6    0.000000e+00\n",
       "LIMIT_BAL    4.863790e+05\n",
       "PAY_1        0.000000e+00\n",
       "PAY_2        0.000000e+00\n",
       "PAY_3        0.000000e+00\n",
       "PAY_4        0.000000e+00\n",
       "PAY_5        2.775558e-17\n",
       "PAY_6        0.000000e+00\n",
       "PAY_AMT1     0.000000e+00\n",
       "PAY_AMT2     1.618984e+06\n",
       "PAY_AMT3     9.094947e-13\n",
       "PAY_AMT4     0.000000e+00\n",
       "PAY_AMT5     0.000000e+00\n",
       "PAY_AMT6     0.000000e+00\n",
       "Y                     NaN\n",
       "batch_id              NaN\n",
       "path_id               NaN\n",
       "run_id                NaN\n",
       "step_id               NaN\n",
       "dtype: float64"
      ]
     },
     "execution_count": 106,
     "metadata": {},
     "output_type": "execute_result"
    }
   ],
   "source": [
    "path_df[(path_df.run_id == run_id)].iloc[1] - EVAL_DATASET.loc[5125]"
   ]
  },
  {
   "cell_type": "code",
   "execution_count": 104,
   "metadata": {},
   "outputs": [
    {
     "data": {
      "text/plain": [
       "LIMIT_BAL    150000\n",
       "AGE              40\n",
       "PAY_1             1\n",
       "PAY_2             0\n",
       "PAY_3             0\n",
       "PAY_4             0\n",
       "PAY_5             0\n",
       "PAY_6             0\n",
       "BILL_AMT1       -15\n",
       "BILL_AMT2     17671\n",
       "BILL_AMT3     14517\n",
       "BILL_AMT4      1870\n",
       "BILL_AMT5      3495\n",
       "BILL_AMT6         0\n",
       "PAY_AMT1      17686\n",
       "PAY_AMT2      14517\n",
       "PAY_AMT3          0\n",
       "PAY_AMT4       3495\n",
       "PAY_AMT5          0\n",
       "PAY_AMT6      21754\n",
       "Y                 0\n",
       "Name: 5125, dtype: int64"
      ]
     },
     "execution_count": 104,
     "metadata": {},
     "output_type": "execute_result"
    }
   ],
   "source": [
    "EVAL_DATASET.loc[5125]"
   ]
  },
  {
   "attachments": {},
   "cell_type": "markdown",
   "metadata": {},
   "source": [
    "## What influences whether a point will have high or low proximity?"
   ]
  },
  {
   "cell_type": "code",
   "execution_count": 133,
   "metadata": {},
   "outputs": [
    {
     "name": "stderr",
     "output_type": "stream",
     "text": [
      "/home/jakeval/umass/research/.venv/lib/python3.8/site-packages/sklearn/manifold/_t_sne.py:800: FutureWarning: The default initialization in TSNE will change from 'random' to 'pca' in 1.2.\n",
      "  warnings.warn(\n"
     ]
    },
    {
     "data": {
      "text/plain": [
       "<matplotlib.collections.PathCollection at 0x7fc4886819d0>"
      ]
     },
     "execution_count": 133,
     "metadata": {},
     "output_type": "execute_result"
    },
    {
     "data": {
      "image/png": "[encoded data removed]",
      "text/plain": [
       "<Figure size 640x480 with 1 Axes>"
      ]
     },
     "metadata": {},
     "output_type": "display_data"
    }
   ],
   "source": [
    "pois = EVAL_DATASET.loc[min_prox_results.poi_index]\n",
    "tsne = manifold.TSNE(learning_rate='auto')\n",
    "tsne_data = tsne.fit_transform(pois.drop(columns='Y'))\n",
    "plt.scatter(x=tsne_data[:,0], y=tsne_data[:,1], c=min_prox_results.proximity)"
   ]
  },
  {
   "cell_type": "code",
   "execution_count": null,
   "metadata": {},
   "outputs": [],
   "source": []
  },
  {
   "attachments": {},
   "cell_type": "markdown",
   "metadata": {},
   "source": [
    "# Some observations"
   ]
  },
  {
   "attachments": {},
   "cell_type": "markdown",
   "metadata": {},
   "source": [
    "Question: what can we intuit about how DICE creates recourse? Are there particular columns it likes to adjust?\n",
    "\n",
    "\n",
    "Observations:\n",
    "* PAY_AMT1 and PAY_AMT2 have highest average difference\n",
    "* DICE never recommends paying less\n",
    "* The columns which appear most frequently in the top 3 changed columns are BILL_AMT6, PAY_AMT1, PAY_AMT2, and PAY_AMT3\n",
    "    - the methodology doesn't actually support this claim, but it's close enough. We can do more analysis if we want to state this in the paper."
   ]
  },
  {
   "cell_type": "code",
   "execution_count": 77,
   "metadata": {},
   "outputs": [
    {
     "data": {
      "text/plain": [
       "LIMIT_BAL     0.134395\n",
       "AGE           0.041656\n",
       "PAY_1         0.134725\n",
       "PAY_2         0.091413\n",
       "PAY_3         0.150424\n",
       "PAY_4         0.086862\n",
       "PAY_5         0.018673\n",
       "PAY_6         0.080418\n",
       "BILL_AMT1     0.097788\n",
       "BILL_AMT2     0.118401\n",
       "BILL_AMT3     0.510092\n",
       "BILL_AMT4     0.170368\n",
       "BILL_AMT5     0.324527\n",
       "BILL_AMT6     0.110602\n",
       "PAY_AMT1     16.426669\n",
       "PAY_AMT2     19.756605\n",
       "PAY_AMT3      1.795424\n",
       "PAY_AMT4      0.958290\n",
       "PAY_AMT5      0.440950\n",
       "PAY_AMT6      0.278408\n",
       "dtype: float64"
      ]
     },
     "execution_count": 77,
     "metadata": {},
     "output_type": "execute_result"
    }
   ],
   "source": [
    "differences = ADAPTER.transform(cfes).drop(columns=['step_id', 'path_id', 'run_id', 'batch_id']).reset_index(drop=True) - ADAPTER.transform(pois.drop(columns = ['step_id', 'path_id', 'run_id', 'batch_id'])).reset_index(drop=True)\n",
    "\n",
    "(differences.abs()).mean()"
   ]
  },
  {
   "cell_type": "code",
   "execution_count": 56,
   "metadata": {},
   "outputs": [
    {
     "data": {
      "text/plain": [
       "LIMIT_BAL     True\n",
       "AGE           True\n",
       "PAY_1         True\n",
       "PAY_2         True\n",
       "PAY_3         True\n",
       "PAY_4         True\n",
       "PAY_5         True\n",
       "PAY_6         True\n",
       "BILL_AMT1     True\n",
       "BILL_AMT2     True\n",
       "BILL_AMT3     True\n",
       "BILL_AMT4     True\n",
       "BILL_AMT5     True\n",
       "BILL_AMT6     True\n",
       "PAY_AMT1     False\n",
       "PAY_AMT2     False\n",
       "PAY_AMT3     False\n",
       "PAY_AMT4     False\n",
       "PAY_AMT5     False\n",
       "PAY_AMT6     False\n",
       "dtype: bool"
      ]
     },
     "execution_count": 56,
     "metadata": {},
     "output_type": "execute_result"
    }
   ],
   "source": [
    "(differences < 0).any()"
   ]
  },
  {
   "cell_type": "code",
   "execution_count": 75,
   "metadata": {},
   "outputs": [
    {
     "data": {
      "text/plain": [
       "col1       col2       col3    \n",
       "BILL_AMT6  PAY_AMT1   PAY_AMT2   -908\n",
       "           PAY_AMT2   PAY_AMT3   -771\n",
       "           PAY_AMT1   PAY_AMT3   -111\n",
       "LIMIT_BAL  PAY_AMT1   PAY_AMT2    -97\n",
       "PAY_3      BILL_AMT6  PAY_AMT2    -89\n",
       "BILL_AMT3  BILL_AMT5  PAY_AMT2    -87\n",
       "BILL_AMT5  BILL_AMT6  PAY_AMT2    -82\n",
       "BILL_AMT6  PAY_AMT2   PAY_AMT4    -76\n",
       "           PAY_AMT1   PAY_AMT4    -75\n",
       "           PAY_AMT2   PAY_AMT5    -74\n",
       "PAY_1      BILL_AMT6  PAY_AMT2    -70\n",
       "PAY_4      BILL_AMT6  PAY_AMT1    -68\n",
       "BILL_AMT4  BILL_AMT6  PAY_AMT1    -68\n",
       "                      PAY_AMT2    -61\n",
       "BILL_AMT2  BILL_AMT6  PAY_AMT1    -60\n",
       "BILL_AMT3  BILL_AMT5  PAY_AMT1    -58\n",
       "BILL_AMT2  PAY_AMT1   PAY_AMT2    -57\n",
       "PAY_AMT1   PAY_AMT2   PAY_AMT6    -56\n",
       "PAY_6      BILL_AMT6  PAY_AMT2    -55\n",
       "PAY_2      PAY_AMT1   PAY_AMT2    -45\n",
       "dtype: int64"
      ]
     },
     "execution_count": 75,
     "metadata": {},
     "output_type": "execute_result"
    }
   ],
   "source": [
    "df = pd.DataFrame(data = np.sort((-differences.abs().to_numpy()).argpartition(kth=3, axis=1)[:,:3], axis=1), columns=['col1', 'col2', 'col3'])\n",
    "df['col1'] = differences.columns[df.col1]\n",
    "df['col2'] = differences.columns[df.col2]\n",
    "df['col3'] = differences.columns[df.col3]\n",
    "\n",
    "(-df.groupby(['col1', 'col2', 'col3']).size()).sort_values()[:20]"
   ]
  },
  {
   "attachments": {},
   "cell_type": "markdown",
   "metadata": {},
   "source": [
    "# Density"
   ]
  },
  {
   "cell_type": "code",
   "execution_count": 19,
   "metadata": {},
   "outputs": [
    {
     "data": {
      "text/plain": [
       "<AxesSubplot: xlabel='poi_density', ylabel='Count'>"
      ]
     },
     "execution_count": 19,
     "metadata": {},
     "output_type": "execute_result"
    },
    {
     "data": {
      "image/png": "[encoded data removed]",
      "text/plain": [
       "<Figure size 640x480 with 1 Axes>"
      ]
     },
     "metadata": {},
     "output_type": "display_data"
    }
   ],
   "source": [
    "sns.histplot(results, x='poi_density')"
   ]
  },
  {
   "cell_type": "code",
   "execution_count": 20,
   "metadata": {},
   "outputs": [
    {
     "data": {
      "text/plain": [
       "<AxesSubplot: xlabel='cfe_density', ylabel='Count'>"
      ]
     },
     "execution_count": 20,
     "metadata": {},
     "output_type": "execute_result"
    },
    {
     "data": {
      "image/png": "[encoded data removed]",
      "text/plain": [
       "<Figure size 640x480 with 1 Axes>"
      ]
     },
     "metadata": {},
     "output_type": "display_data"
    }
   ],
   "source": [
    "sns.histplot(results, x='cfe_density')"
   ]
  },
  {
   "cell_type": "code",
   "execution_count": 21,
   "metadata": {},
   "outputs": [
    {
     "data": {
      "text/html": [
       "<div>\n",
       "<style scoped>\n",
       "    .dataframe tbody tr th:only-of-type {\n",
       "        vertical-align: middle;\n",
       "    }\n",
       "\n",
       "    .dataframe tbody tr th {\n",
       "        vertical-align: top;\n",
       "    }\n",
       "\n",
       "    .dataframe thead th {\n",
       "        text-align: right;\n",
       "    }\n",
       "</style>\n",
       "<table border=\"1\" class=\"dataframe\">\n",
       "  <thead>\n",
       "    <tr style=\"text-align: right;\">\n",
       "      <th></th>\n",
       "      <th>cfe_density</th>\n",
       "      <th>poi_density</th>\n",
       "      <th>proximity</th>\n",
       "    </tr>\n",
       "    <tr>\n",
       "      <th>path_id</th>\n",
       "      <th></th>\n",
       "      <th></th>\n",
       "      <th></th>\n",
       "    </tr>\n",
       "  </thead>\n",
       "  <tbody>\n",
       "    <tr>\n",
       "      <th>0.0</th>\n",
       "      <td>-6040.934023</td>\n",
       "      <td>-7.64285</td>\n",
       "      <td>41.006936</td>\n",
       "    </tr>\n",
       "    <tr>\n",
       "      <th>1.0</th>\n",
       "      <td>-2978.134156</td>\n",
       "      <td>-7.64285</td>\n",
       "      <td>33.585507</td>\n",
       "    </tr>\n",
       "    <tr>\n",
       "      <th>2.0</th>\n",
       "      <td>-4193.271971</td>\n",
       "      <td>-7.64285</td>\n",
       "      <td>39.884430</td>\n",
       "    </tr>\n",
       "  </tbody>\n",
       "</table>\n",
       "</div>"
      ],
      "text/plain": [
       "         cfe_density  poi_density  proximity\n",
       "path_id                                     \n",
       "0.0     -6040.934023     -7.64285  41.006936\n",
       "1.0     -2978.134156     -7.64285  33.585507\n",
       "2.0     -4193.271971     -7.64285  39.884430"
      ]
     },
     "execution_count": 21,
     "metadata": {},
     "output_type": "execute_result"
    }
   ],
   "source": [
    "results.groupby('path_id').mean()[['cfe_density', 'poi_density', 'proximity']]"
   ]
  },
  {
   "cell_type": "code",
   "execution_count": null,
   "metadata": {},
   "outputs": [],
   "source": []
  }
 ],
 "metadata": {
  "kernelspec": {
   "display_name": ".venv",
   "language": "python",
   "name": "python3"
  },
  "language_info": {
   "codemirror_mode": {
    "name": "ipython",
    "version": 3
   },
   "file_extension": ".py",
   "mimetype": "text/x-python",
   "name": "python",
   "nbconvert_exporter": "python",
   "pygments_lexer": "ipython3",
   "version": "3.8.10"
  },
  "orig_nbformat": 4,
  "vscode": {
   "interpreter": {
    "hash": "544bbcec4a3402c4ea95887680bbb478b7040f8d29544f0f161653d15df00b63"
   }
  }
 },
 "nbformat": 4,
 "nbformat_minor": 2
}
