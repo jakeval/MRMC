{
 "cells": [
  {
   "attachments": {},
   "cell_type": "markdown",
   "metadata": {},
   "source": [
    "# MRMC Holistic Results"
   ]
  },
  {
   "cell_type": "code",
   "execution_count": 40,
   "metadata": {},
   "outputs": [
    {
     "name": "stdout",
     "output_type": "stream",
     "text": [
      "The autoreload extension is already loaded. To reload it, use:\n",
      "  %reload_ext autoreload\n"
     ]
    }
   ],
   "source": [
    "import sys\n",
    "import os\n",
    "sys.path.append(os.path.join(os.getcwd(), '../..'))\n",
    "\n",
    "%load_ext autoreload\n",
    "%autoreload 2\n",
    "\n",
    "import pandas as pd\n",
    "import numpy as np\n",
    "from sklearn import neighbors\n",
    "from sklearn import model_selection\n",
    "from sklearn import manifold\n",
    "import joblib\n",
    "from scripts import fit_kde\n",
    "import json\n",
    "\n",
    "import matplotlib.pyplot as plt\n",
    "import seaborn as sns\n",
    "from models import model_interface, model_loader, model_constants\n",
    "from data import data_loader\n",
    "from data.adapters import continuous_adapter"
   ]
  },
  {
   "cell_type": "code",
   "execution_count": 3,
   "metadata": {},
   "outputs": [],
   "source": [
    "RECOURSE_METHOD = 'mrmc'\n",
    "RESULTS_DIR = '../../experiment_results/mrmc/mrmc_holistic'"
   ]
  },
  {
   "cell_type": "markdown",
   "metadata": {},
   "source": [
    "# Preliminaries -- load everything"
   ]
  },
  {
   "cell_type": "code",
   "execution_count": 4,
   "metadata": {},
   "outputs": [
    {
     "data": {
      "text/html": [
       "<div>\n",
       "<style scoped>\n",
       "    .dataframe tbody tr th:only-of-type {\n",
       "        vertical-align: middle;\n",
       "    }\n",
       "\n",
       "    .dataframe tbody tr th {\n",
       "        vertical-align: top;\n",
       "    }\n",
       "\n",
       "    .dataframe thead th {\n",
       "        text-align: right;\n",
       "    }\n",
       "</style>\n",
       "<table border=\"1\" class=\"dataframe\">\n",
       "  <thead>\n",
       "    <tr style=\"text-align: right;\">\n",
       "      <th></th>\n",
       "      <th>batch_id</th>\n",
       "      <th>run_id</th>\n",
       "      <th>run_seed</th>\n",
       "      <th>cluster_seed</th>\n",
       "      <th>confidence_cutoff</th>\n",
       "      <th>max_iterations</th>\n",
       "      <th>noise_ratio</th>\n",
       "      <th>num_clusters</th>\n",
       "      <th>poi_index</th>\n",
       "      <th>rescale_ratio</th>\n",
       "      <th>step_size</th>\n",
       "      <th>volcano_cutoff</th>\n",
       "      <th>volcano_degree</th>\n",
       "      <th>elapsed_recourse_seconds</th>\n",
       "      <th>elapsed_cluster_seconds</th>\n",
       "    </tr>\n",
       "  </thead>\n",
       "  <tbody>\n",
       "    <tr>\n",
       "      <th>0</th>\n",
       "      <td>420</td>\n",
       "      <td>420</td>\n",
       "      <td>7527</td>\n",
       "      <td>1834823</td>\n",
       "      <td>0.7</td>\n",
       "      <td>50</td>\n",
       "      <td>NaN</td>\n",
       "      <td>3</td>\n",
       "      <td>23159</td>\n",
       "      <td>NaN</td>\n",
       "      <td>1</td>\n",
       "      <td>0.5</td>\n",
       "      <td>2</td>\n",
       "      <td>3.093080</td>\n",
       "      <td>0.289569</td>\n",
       "    </tr>\n",
       "    <tr>\n",
       "      <th>1</th>\n",
       "      <td>395</td>\n",
       "      <td>395</td>\n",
       "      <td>7527</td>\n",
       "      <td>1834823</td>\n",
       "      <td>0.7</td>\n",
       "      <td>50</td>\n",
       "      <td>NaN</td>\n",
       "      <td>3</td>\n",
       "      <td>13378</td>\n",
       "      <td>NaN</td>\n",
       "      <td>1</td>\n",
       "      <td>0.5</td>\n",
       "      <td>2</td>\n",
       "      <td>2.591012</td>\n",
       "      <td>0.164129</td>\n",
       "    </tr>\n",
       "    <tr>\n",
       "      <th>2</th>\n",
       "      <td>593</td>\n",
       "      <td>593</td>\n",
       "      <td>7527</td>\n",
       "      <td>1834823</td>\n",
       "      <td>0.7</td>\n",
       "      <td>50</td>\n",
       "      <td>NaN</td>\n",
       "      <td>3</td>\n",
       "      <td>13527</td>\n",
       "      <td>NaN</td>\n",
       "      <td>1</td>\n",
       "      <td>0.5</td>\n",
       "      <td>2</td>\n",
       "      <td>2.047439</td>\n",
       "      <td>0.160035</td>\n",
       "    </tr>\n",
       "    <tr>\n",
       "      <th>3</th>\n",
       "      <td>1004</td>\n",
       "      <td>1004</td>\n",
       "      <td>7527</td>\n",
       "      <td>1834823</td>\n",
       "      <td>0.7</td>\n",
       "      <td>50</td>\n",
       "      <td>NaN</td>\n",
       "      <td>3</td>\n",
       "      <td>18592</td>\n",
       "      <td>NaN</td>\n",
       "      <td>1</td>\n",
       "      <td>0.5</td>\n",
       "      <td>2</td>\n",
       "      <td>2.177958</td>\n",
       "      <td>0.161154</td>\n",
       "    </tr>\n",
       "    <tr>\n",
       "      <th>4</th>\n",
       "      <td>76</td>\n",
       "      <td>76</td>\n",
       "      <td>7527</td>\n",
       "      <td>1834823</td>\n",
       "      <td>0.7</td>\n",
       "      <td>50</td>\n",
       "      <td>NaN</td>\n",
       "      <td>3</td>\n",
       "      <td>10537</td>\n",
       "      <td>NaN</td>\n",
       "      <td>1</td>\n",
       "      <td>0.5</td>\n",
       "      <td>2</td>\n",
       "      <td>3.683145</td>\n",
       "      <td>0.159986</td>\n",
       "    </tr>\n",
       "    <tr>\n",
       "      <th>...</th>\n",
       "      <td>...</td>\n",
       "      <td>...</td>\n",
       "      <td>...</td>\n",
       "      <td>...</td>\n",
       "      <td>...</td>\n",
       "      <td>...</td>\n",
       "      <td>...</td>\n",
       "      <td>...</td>\n",
       "      <td>...</td>\n",
       "      <td>...</td>\n",
       "      <td>...</td>\n",
       "      <td>...</td>\n",
       "      <td>...</td>\n",
       "      <td>...</td>\n",
       "      <td>...</td>\n",
       "    </tr>\n",
       "    <tr>\n",
       "      <th>1133</th>\n",
       "      <td>981</td>\n",
       "      <td>981</td>\n",
       "      <td>7527</td>\n",
       "      <td>1834823</td>\n",
       "      <td>0.7</td>\n",
       "      <td>50</td>\n",
       "      <td>NaN</td>\n",
       "      <td>3</td>\n",
       "      <td>849</td>\n",
       "      <td>NaN</td>\n",
       "      <td>1</td>\n",
       "      <td>0.5</td>\n",
       "      <td>2</td>\n",
       "      <td>5.055136</td>\n",
       "      <td>0.356942</td>\n",
       "    </tr>\n",
       "    <tr>\n",
       "      <th>1134</th>\n",
       "      <td>456</td>\n",
       "      <td>456</td>\n",
       "      <td>7527</td>\n",
       "      <td>1834823</td>\n",
       "      <td>0.7</td>\n",
       "      <td>50</td>\n",
       "      <td>NaN</td>\n",
       "      <td>3</td>\n",
       "      <td>3641</td>\n",
       "      <td>NaN</td>\n",
       "      <td>1</td>\n",
       "      <td>0.5</td>\n",
       "      <td>2</td>\n",
       "      <td>4.114330</td>\n",
       "      <td>0.259228</td>\n",
       "    </tr>\n",
       "    <tr>\n",
       "      <th>1135</th>\n",
       "      <td>128</td>\n",
       "      <td>128</td>\n",
       "      <td>7527</td>\n",
       "      <td>1834823</td>\n",
       "      <td>0.7</td>\n",
       "      <td>50</td>\n",
       "      <td>NaN</td>\n",
       "      <td>3</td>\n",
       "      <td>7310</td>\n",
       "      <td>NaN</td>\n",
       "      <td>1</td>\n",
       "      <td>0.5</td>\n",
       "      <td>2</td>\n",
       "      <td>2.059311</td>\n",
       "      <td>0.489452</td>\n",
       "    </tr>\n",
       "    <tr>\n",
       "      <th>1136</th>\n",
       "      <td>91</td>\n",
       "      <td>91</td>\n",
       "      <td>7527</td>\n",
       "      <td>1834823</td>\n",
       "      <td>0.7</td>\n",
       "      <td>50</td>\n",
       "      <td>NaN</td>\n",
       "      <td>3</td>\n",
       "      <td>5718</td>\n",
       "      <td>NaN</td>\n",
       "      <td>1</td>\n",
       "      <td>0.5</td>\n",
       "      <td>2</td>\n",
       "      <td>2.805696</td>\n",
       "      <td>0.377015</td>\n",
       "    </tr>\n",
       "    <tr>\n",
       "      <th>1137</th>\n",
       "      <td>1032</td>\n",
       "      <td>1032</td>\n",
       "      <td>7527</td>\n",
       "      <td>1834823</td>\n",
       "      <td>0.7</td>\n",
       "      <td>50</td>\n",
       "      <td>NaN</td>\n",
       "      <td>3</td>\n",
       "      <td>20696</td>\n",
       "      <td>NaN</td>\n",
       "      <td>1</td>\n",
       "      <td>0.5</td>\n",
       "      <td>2</td>\n",
       "      <td>2.844008</td>\n",
       "      <td>0.237390</td>\n",
       "    </tr>\n",
       "  </tbody>\n",
       "</table>\n",
       "<p>1138 rows × 15 columns</p>\n",
       "</div>"
      ],
      "text/plain": [
       "      batch_id  run_id  run_seed  cluster_seed  confidence_cutoff  \\\n",
       "0          420     420      7527       1834823                0.7   \n",
       "1          395     395      7527       1834823                0.7   \n",
       "2          593     593      7527       1834823                0.7   \n",
       "3         1004    1004      7527       1834823                0.7   \n",
       "4           76      76      7527       1834823                0.7   \n",
       "...        ...     ...       ...           ...                ...   \n",
       "1133       981     981      7527       1834823                0.7   \n",
       "1134       456     456      7527       1834823                0.7   \n",
       "1135       128     128      7527       1834823                0.7   \n",
       "1136        91      91      7527       1834823                0.7   \n",
       "1137      1032    1032      7527       1834823                0.7   \n",
       "\n",
       "      max_iterations  noise_ratio  num_clusters  poi_index  rescale_ratio  \\\n",
       "0                 50          NaN             3      23159            NaN   \n",
       "1                 50          NaN             3      13378            NaN   \n",
       "2                 50          NaN             3      13527            NaN   \n",
       "3                 50          NaN             3      18592            NaN   \n",
       "4                 50          NaN             3      10537            NaN   \n",
       "...              ...          ...           ...        ...            ...   \n",
       "1133              50          NaN             3        849            NaN   \n",
       "1134              50          NaN             3       3641            NaN   \n",
       "1135              50          NaN             3       7310            NaN   \n",
       "1136              50          NaN             3       5718            NaN   \n",
       "1137              50          NaN             3      20696            NaN   \n",
       "\n",
       "      step_size  volcano_cutoff  volcano_degree  elapsed_recourse_seconds  \\\n",
       "0             1             0.5               2                  3.093080   \n",
       "1             1             0.5               2                  2.591012   \n",
       "2             1             0.5               2                  2.047439   \n",
       "3             1             0.5               2                  2.177958   \n",
       "4             1             0.5               2                  3.683145   \n",
       "...         ...             ...             ...                       ...   \n",
       "1133          1             0.5               2                  5.055136   \n",
       "1134          1             0.5               2                  4.114330   \n",
       "1135          1             0.5               2                  2.059311   \n",
       "1136          1             0.5               2                  2.805696   \n",
       "1137          1             0.5               2                  2.844008   \n",
       "\n",
       "      elapsed_cluster_seconds  \n",
       "0                    0.289569  \n",
       "1                    0.164129  \n",
       "2                    0.160035  \n",
       "3                    0.161154  \n",
       "4                    0.159986  \n",
       "...                       ...  \n",
       "1133                 0.356942  \n",
       "1134                 0.259228  \n",
       "1135                 0.489452  \n",
       "1136                 0.377015  \n",
       "1137                 0.237390  \n",
       "\n",
       "[1138 rows x 15 columns]"
      ]
     },
     "execution_count": 4,
     "metadata": {},
     "output_type": "execute_result"
    }
   ],
   "source": [
    "DATASET, DATASET_INFO = data_loader.load_data(data_loader.DatasetName('credit_card_default'), split=\"train\")\n",
    "MODEL = model_loader.load_model(model_constants.ModelType('logistic_regression'), data_loader.DatasetName('credit_card_default'))\n",
    "ADAPTER = continuous_adapter.StandardizingAdapter(\n",
    "    label_column = DATASET_INFO.label_column, positive_label=DATASET_INFO.positive_label\n",
    ").fit(DATASET)\n",
    "\n",
    "DROP_COLUMNS = ['step_id', 'path_id', 'run_id', 'batch_id']  # columns which are convenient to drop from the path_df\n",
    "\n",
    "with open(os.path.join(RESULTS_DIR, 'config.json')) as f:\n",
    "    config_json = json.load(f)\n",
    "\n",
    "EVAL_SPLIT = config_json['split']\n",
    "\n",
    "EVAL_DATASET, _ = data_loader.load_data(data_loader.DatasetName('credit_card_default'), split=EVAL_SPLIT)\n",
    "\n",
    "\n",
    "cluster_df = pd.read_csv(os.path.join(RESULTS_DIR, 'cluster_df.csv'))\n",
    "config_df = pd.read_csv(os.path.join(RESULTS_DIR, 'experiment_config_df.csv'))\n",
    "path_df = pd.read_csv(os.path.join(RESULTS_DIR, f'{RECOURSE_METHOD}_paths_df.csv'))\n",
    "config_df"
   ]
  },
  {
   "attachments": {},
   "cell_type": "markdown",
   "metadata": {},
   "source": [
    "## Load or Fit a KDE"
   ]
  },
  {
   "cell_type": "code",
   "execution_count": 5,
   "metadata": {},
   "outputs": [],
   "source": [
    "KDE_DIRECTORY = '../../saved_models/kde/credit_card_default_kde.joblib'\n",
    "\n",
    "if os.path.exists(KDE_DIRECTORY):\n",
    "    KDE = joblib.load(KDE_DIRECTORY)\n",
    "else:\n",
    "    KDE = fit_kde.fit_kde('credit_card_default', KDE_DIRECTORY)"
   ]
  },
  {
   "attachments": {},
   "cell_type": "markdown",
   "metadata": {},
   "source": [
    "# Analyze the results"
   ]
  },
  {
   "cell_type": "code",
   "execution_count": 6,
   "metadata": {},
   "outputs": [
    {
     "name": "stderr",
     "output_type": "stream",
     "text": [
      "/tmp/ipykernel_1030/3088119923.py:10: SettingWithCopyWarning: \n",
      "A value is trying to be set on a copy of a slice from a DataFrame\n",
      "\n",
      "See the caveats in the documentation: https://pandas.pydata.org/pandas-docs/stable/user_guide/indexing.html#returning-a-view-versus-a-copy\n",
      "  pathscopy.loc[:,'next_step_id'].iloc[0:-1] = pathscopy.loc[:,'step_id'].iloc[1:]\n"
     ]
    },
    {
     "data": {
      "text/html": [
       "<div>\n",
       "<style scoped>\n",
       "    .dataframe tbody tr th:only-of-type {\n",
       "        vertical-align: middle;\n",
       "    }\n",
       "\n",
       "    .dataframe tbody tr th {\n",
       "        vertical-align: top;\n",
       "    }\n",
       "\n",
       "    .dataframe thead th {\n",
       "        text-align: right;\n",
       "    }\n",
       "</style>\n",
       "<table border=\"1\" class=\"dataframe\">\n",
       "  <thead>\n",
       "    <tr style=\"text-align: right;\">\n",
       "      <th></th>\n",
       "      <th>run_id</th>\n",
       "      <th>path_id</th>\n",
       "      <th>success</th>\n",
       "      <th>proximity</th>\n",
       "      <th>path_length</th>\n",
       "      <th>iteration_count</th>\n",
       "      <th>poi_density</th>\n",
       "      <th>cfe_density</th>\n",
       "      <th>actual_sparsity</th>\n",
       "      <th>batch_id</th>\n",
       "      <th>confidence_cutoff</th>\n",
       "      <th>num_clusters</th>\n",
       "      <th>poi_index</th>\n",
       "      <th>step_size</th>\n",
       "      <th>elapsed_recourse_seconds</th>\n",
       "      <th>elapsed_cluster_seconds</th>\n",
       "    </tr>\n",
       "  </thead>\n",
       "  <tbody>\n",
       "    <tr>\n",
       "      <th>0</th>\n",
       "      <td>420.0</td>\n",
       "      <td>0.0</td>\n",
       "      <td>1.0</td>\n",
       "      <td>7.965322</td>\n",
       "      <td>8.0</td>\n",
       "      <td>9.0</td>\n",
       "      <td>-17.618665</td>\n",
       "      <td>-1.363219</td>\n",
       "      <td>20.0</td>\n",
       "      <td>420</td>\n",
       "      <td>0.7</td>\n",
       "      <td>3</td>\n",
       "      <td>23159</td>\n",
       "      <td>1</td>\n",
       "      <td>3.093080</td>\n",
       "      <td>0.289569</td>\n",
       "    </tr>\n",
       "    <tr>\n",
       "      <th>1</th>\n",
       "      <td>420.0</td>\n",
       "      <td>1.0</td>\n",
       "      <td>1.0</td>\n",
       "      <td>6.995552</td>\n",
       "      <td>7.0</td>\n",
       "      <td>8.0</td>\n",
       "      <td>-17.618665</td>\n",
       "      <td>-29.735818</td>\n",
       "      <td>19.0</td>\n",
       "      <td>420</td>\n",
       "      <td>0.7</td>\n",
       "      <td>3</td>\n",
       "      <td>23159</td>\n",
       "      <td>1</td>\n",
       "      <td>3.093080</td>\n",
       "      <td>0.289569</td>\n",
       "    </tr>\n",
       "    <tr>\n",
       "      <th>2</th>\n",
       "      <td>420.0</td>\n",
       "      <td>2.0</td>\n",
       "      <td>1.0</td>\n",
       "      <td>5.962266</td>\n",
       "      <td>6.0</td>\n",
       "      <td>7.0</td>\n",
       "      <td>-17.618665</td>\n",
       "      <td>-0.681659</td>\n",
       "      <td>20.0</td>\n",
       "      <td>420</td>\n",
       "      <td>0.7</td>\n",
       "      <td>3</td>\n",
       "      <td>23159</td>\n",
       "      <td>1</td>\n",
       "      <td>3.093080</td>\n",
       "      <td>0.289569</td>\n",
       "    </tr>\n",
       "    <tr>\n",
       "      <th>3</th>\n",
       "      <td>395.0</td>\n",
       "      <td>0.0</td>\n",
       "      <td>1.0</td>\n",
       "      <td>7.975497</td>\n",
       "      <td>8.0</td>\n",
       "      <td>9.0</td>\n",
       "      <td>-1.470329</td>\n",
       "      <td>-1.647185</td>\n",
       "      <td>20.0</td>\n",
       "      <td>395</td>\n",
       "      <td>0.7</td>\n",
       "      <td>3</td>\n",
       "      <td>13378</td>\n",
       "      <td>1</td>\n",
       "      <td>2.591012</td>\n",
       "      <td>0.164129</td>\n",
       "    </tr>\n",
       "    <tr>\n",
       "      <th>4</th>\n",
       "      <td>395.0</td>\n",
       "      <td>1.0</td>\n",
       "      <td>1.0</td>\n",
       "      <td>5.998813</td>\n",
       "      <td>6.0</td>\n",
       "      <td>7.0</td>\n",
       "      <td>-1.470329</td>\n",
       "      <td>-43.182930</td>\n",
       "      <td>20.0</td>\n",
       "      <td>395</td>\n",
       "      <td>0.7</td>\n",
       "      <td>3</td>\n",
       "      <td>13378</td>\n",
       "      <td>1</td>\n",
       "      <td>2.591012</td>\n",
       "      <td>0.164129</td>\n",
       "    </tr>\n",
       "    <tr>\n",
       "      <th>...</th>\n",
       "      <td>...</td>\n",
       "      <td>...</td>\n",
       "      <td>...</td>\n",
       "      <td>...</td>\n",
       "      <td>...</td>\n",
       "      <td>...</td>\n",
       "      <td>...</td>\n",
       "      <td>...</td>\n",
       "      <td>...</td>\n",
       "      <td>...</td>\n",
       "      <td>...</td>\n",
       "      <td>...</td>\n",
       "      <td>...</td>\n",
       "      <td>...</td>\n",
       "      <td>...</td>\n",
       "      <td>...</td>\n",
       "    </tr>\n",
       "    <tr>\n",
       "      <th>3409</th>\n",
       "      <td>91.0</td>\n",
       "      <td>1.0</td>\n",
       "      <td>1.0</td>\n",
       "      <td>5.998462</td>\n",
       "      <td>6.0</td>\n",
       "      <td>7.0</td>\n",
       "      <td>-6.901278</td>\n",
       "      <td>-40.010139</td>\n",
       "      <td>19.0</td>\n",
       "      <td>91</td>\n",
       "      <td>0.7</td>\n",
       "      <td>3</td>\n",
       "      <td>5718</td>\n",
       "      <td>1</td>\n",
       "      <td>2.805696</td>\n",
       "      <td>0.377015</td>\n",
       "    </tr>\n",
       "    <tr>\n",
       "      <th>3410</th>\n",
       "      <td>91.0</td>\n",
       "      <td>2.0</td>\n",
       "      <td>1.0</td>\n",
       "      <td>3.982037</td>\n",
       "      <td>4.0</td>\n",
       "      <td>5.0</td>\n",
       "      <td>-6.901278</td>\n",
       "      <td>-0.029524</td>\n",
       "      <td>20.0</td>\n",
       "      <td>91</td>\n",
       "      <td>0.7</td>\n",
       "      <td>3</td>\n",
       "      <td>5718</td>\n",
       "      <td>1</td>\n",
       "      <td>2.805696</td>\n",
       "      <td>0.377015</td>\n",
       "    </tr>\n",
       "    <tr>\n",
       "      <th>3411</th>\n",
       "      <td>1032.0</td>\n",
       "      <td>0.0</td>\n",
       "      <td>1.0</td>\n",
       "      <td>6.976456</td>\n",
       "      <td>7.0</td>\n",
       "      <td>8.0</td>\n",
       "      <td>-1.750707</td>\n",
       "      <td>-1.760856</td>\n",
       "      <td>20.0</td>\n",
       "      <td>1032</td>\n",
       "      <td>0.7</td>\n",
       "      <td>3</td>\n",
       "      <td>20696</td>\n",
       "      <td>1</td>\n",
       "      <td>2.844008</td>\n",
       "      <td>0.237390</td>\n",
       "    </tr>\n",
       "    <tr>\n",
       "      <th>3412</th>\n",
       "      <td>1032.0</td>\n",
       "      <td>1.0</td>\n",
       "      <td>1.0</td>\n",
       "      <td>5.998231</td>\n",
       "      <td>6.0</td>\n",
       "      <td>7.0</td>\n",
       "      <td>-1.750707</td>\n",
       "      <td>-27.068325</td>\n",
       "      <td>20.0</td>\n",
       "      <td>1032</td>\n",
       "      <td>0.7</td>\n",
       "      <td>3</td>\n",
       "      <td>20696</td>\n",
       "      <td>1</td>\n",
       "      <td>2.844008</td>\n",
       "      <td>0.237390</td>\n",
       "    </tr>\n",
       "    <tr>\n",
       "      <th>3413</th>\n",
       "      <td>1032.0</td>\n",
       "      <td>2.0</td>\n",
       "      <td>1.0</td>\n",
       "      <td>4.986379</td>\n",
       "      <td>5.0</td>\n",
       "      <td>6.0</td>\n",
       "      <td>-1.750707</td>\n",
       "      <td>-1.899437</td>\n",
       "      <td>20.0</td>\n",
       "      <td>1032</td>\n",
       "      <td>0.7</td>\n",
       "      <td>3</td>\n",
       "      <td>20696</td>\n",
       "      <td>1</td>\n",
       "      <td>2.844008</td>\n",
       "      <td>0.237390</td>\n",
       "    </tr>\n",
       "  </tbody>\n",
       "</table>\n",
       "<p>3414 rows × 16 columns</p>\n",
       "</div>"
      ],
      "text/plain": [
       "      run_id  path_id  success  proximity  path_length  iteration_count  \\\n",
       "0      420.0      0.0      1.0   7.965322          8.0              9.0   \n",
       "1      420.0      1.0      1.0   6.995552          7.0              8.0   \n",
       "2      420.0      2.0      1.0   5.962266          6.0              7.0   \n",
       "3      395.0      0.0      1.0   7.975497          8.0              9.0   \n",
       "4      395.0      1.0      1.0   5.998813          6.0              7.0   \n",
       "...      ...      ...      ...        ...          ...              ...   \n",
       "3409    91.0      1.0      1.0   5.998462          6.0              7.0   \n",
       "3410    91.0      2.0      1.0   3.982037          4.0              5.0   \n",
       "3411  1032.0      0.0      1.0   6.976456          7.0              8.0   \n",
       "3412  1032.0      1.0      1.0   5.998231          6.0              7.0   \n",
       "3413  1032.0      2.0      1.0   4.986379          5.0              6.0   \n",
       "\n",
       "      poi_density  cfe_density  actual_sparsity  batch_id  confidence_cutoff  \\\n",
       "0      -17.618665    -1.363219             20.0       420                0.7   \n",
       "1      -17.618665   -29.735818             19.0       420                0.7   \n",
       "2      -17.618665    -0.681659             20.0       420                0.7   \n",
       "3       -1.470329    -1.647185             20.0       395                0.7   \n",
       "4       -1.470329   -43.182930             20.0       395                0.7   \n",
       "...           ...          ...              ...       ...                ...   \n",
       "3409    -6.901278   -40.010139             19.0        91                0.7   \n",
       "3410    -6.901278    -0.029524             20.0        91                0.7   \n",
       "3411    -1.750707    -1.760856             20.0      1032                0.7   \n",
       "3412    -1.750707   -27.068325             20.0      1032                0.7   \n",
       "3413    -1.750707    -1.899437             20.0      1032                0.7   \n",
       "\n",
       "      num_clusters  poi_index  step_size  elapsed_recourse_seconds  \\\n",
       "0                3      23159          1                  3.093080   \n",
       "1                3      23159          1                  3.093080   \n",
       "2                3      23159          1                  3.093080   \n",
       "3                3      13378          1                  2.591012   \n",
       "4                3      13378          1                  2.591012   \n",
       "...            ...        ...        ...                       ...   \n",
       "3409             3       5718          1                  2.805696   \n",
       "3410             3       5718          1                  2.805696   \n",
       "3411             3      20696          1                  2.844008   \n",
       "3412             3      20696          1                  2.844008   \n",
       "3413             3      20696          1                  2.844008   \n",
       "\n",
       "      elapsed_cluster_seconds  \n",
       "0                    0.289569  \n",
       "1                    0.289569  \n",
       "2                    0.289569  \n",
       "3                    0.164129  \n",
       "4                    0.164129  \n",
       "...                       ...  \n",
       "3409                 0.377015  \n",
       "3410                 0.377015  \n",
       "3411                 0.237390  \n",
       "3412                 0.237390  \n",
       "3413                 0.237390  \n",
       "\n",
       "[3414 rows x 16 columns]"
      ]
     },
     "execution_count": 6,
     "metadata": {},
     "output_type": "execute_result"
    }
   ],
   "source": [
    "SPARSITY_EPSILON = 1e-5\n",
    "\n",
    "def get_poi_cfes(path_df: pd.DataFrame):\n",
    "    \"\"\"Isolate the POIs (Points of Interest) and CFEs (Counterfactual Examples) from the full path results.\n",
    "    \n",
    "    POIs and CFEs are listed in the order they originally appear in. There is one POI and one CFE\n",
    "    for every path that appears in the DataFrame.\"\"\"\n",
    "    pathscopy = path_df.copy()\n",
    "    pathscopy['next_step_id'] = 0\n",
    "    pathscopy.loc[:,'next_step_id'].iloc[0:-1] = pathscopy.loc[:,'step_id'].iloc[1:]\n",
    "    cfes = pathscopy[pathscopy.step_id >= pathscopy.next_step_id].drop(columns='next_step_id')\n",
    "    return pathscopy[pathscopy.step_id == 0].drop(columns='next_step_id'), cfes\n",
    "\n",
    "def get_sparsity(path: pd.DataFrame):\n",
    "    \"\"\"Returns the maximum number of features changed in any single iteration\n",
    "    along the path.\"\"\"\n",
    "    if path.shape[0] == 1:\n",
    "        return np.nan\n",
    "    path_sparsity = np.zeros(path.shape[0])\n",
    "    for i in range(1, path.shape[0]):\n",
    "        path_sparsity[i] = (np.abs(path.iloc[i] - path.iloc[i - 1]) > SPARSITY_EPSILON).sum()\n",
    "    return np.max(path_sparsity)\n",
    "\n",
    "def get_path_length(path: pd.DataFrame):\n",
    "    \"\"\"Returns the sum of euclidean distances along the path.\"\"\"\n",
    "    total = 0\n",
    "    for i in range(1, path.shape[0]):\n",
    "        total += np.linalg.norm(path.iloc[i] - path.iloc[i - 1])\n",
    "    if total == 0:\n",
    "        return np.nan\n",
    "    return total\n",
    "\n",
    "def get_cfe_distance(path: pd.DataFrame):\n",
    "    \"\"\"Returns the euclidean distance between the first and last points in the path.\"\"\"\n",
    "    if len(path) == 1:\n",
    "        return np.nan\n",
    "    return np.linalg.norm(path.iloc[-1] - path.iloc[0])\n",
    "\n",
    "\n",
    "def analyze_paths(paths: pd.DataFrame, poi_kdes, cfe_kdes, cfe_probs, config_df):\n",
    "    \"\"\"Returns a DataFrame containing per-path results.\n",
    "    \n",
    "    Each row corresponds to a specific path. Each column is a result metric.\n",
    "    \n",
    "    Args:\n",
    "        paths: The path_df DataFrame to analyze.\n",
    "        poi_kdes: The KDE scores for the POIs.\n",
    "        cfe_kdes: The KDE scores for the CFEs.\n",
    "        config_df: The experiment_config_df for the experiment.\"\"\"\n",
    "    columns = ['run_id', 'path_id', 'success', 'proximity', 'path_length',\n",
    "               'iteration_count', 'poi_density', 'cfe_density', \n",
    "               'actual_sparsity']\n",
    "    col_idx = {}\n",
    "    for i, col in enumerate(columns):\n",
    "        col_idx[col] = i\n",
    "\n",
    "    results = np.zeros((len(poi_kdes), len(columns)))\n",
    "\n",
    "    i = 0\n",
    "    for run_id in paths.run_id.unique():\n",
    "        run_paths = paths[paths.run_id == run_id]\n",
    "        for path_id in run_paths.path_id.unique():\n",
    "            path = ADAPTER.transform(run_paths[run_paths.path_id == path_id].drop(columns=DROP_COLUMNS))\n",
    "            results[i,col_idx['run_id']] = run_id\n",
    "            results[i,col_idx['path_id']] = path_id\n",
    "\n",
    "            desired_proba = config_df[config_df.run_id == run_id].confidence_cutoff.iloc[0]\n",
    "            actual_proba = cfe_probs[i]\n",
    "\n",
    "            results[i,col_idx['success']] = 1 if actual_proba >= desired_proba else 0\n",
    "            results[i,col_idx['path_length']] = get_path_length(path)\n",
    "            results[i,col_idx['iteration_count']] = len(path)\n",
    "            results[i,col_idx['proximity']] = get_cfe_distance(path)\n",
    "            results[i,col_idx['poi_density']] = poi_kdes[i]\n",
    "            results[i,col_idx['cfe_density']] = cfe_kdes[i]\n",
    "            results[i,col_idx['actual_sparsity']] = get_sparsity(path)\n",
    "            i += 1\n",
    "\n",
    "    return pd.DataFrame(data=results, columns=columns)\n",
    "\n",
    "pois, cfes = get_poi_cfes(path_df)\n",
    "poi_kdes = KDE.score_samples(ADAPTER.transform(pois.drop(columns=DROP_COLUMNS)))\n",
    "cfe_kdes = KDE.score_samples(ADAPTER.transform(cfes.drop(columns=DROP_COLUMNS)))\n",
    "cfe_probs = MODEL.predict_pos_proba(cfes.drop(columns=DROP_COLUMNS)).to_numpy()\n",
    "\n",
    "results = analyze_paths(path_df, poi_kdes, cfe_kdes, cfe_probs, config_df)\n",
    "results = results.merge(config_df, how='left', on='run_id').drop(\n",
    "    columns=['max_iterations', 'noise_ratio',\n",
    "             'rescale_ratio', 'cluster_seed', 'run_seed',\n",
    "             'volcano_degree', 'volcano_cutoff'])  # uninteresting columns\n",
    "results"
   ]
  },
  {
   "attachments": {},
   "cell_type": "markdown",
   "metadata": {},
   "source": [
    "# Success\n",
    "\n",
    "StEP always succeeds"
   ]
  },
  {
   "cell_type": "code",
   "execution_count": 7,
   "metadata": {},
   "outputs": [
    {
     "data": {
      "text/html": [
       "<div>\n",
       "<style scoped>\n",
       "    .dataframe tbody tr th:only-of-type {\n",
       "        vertical-align: middle;\n",
       "    }\n",
       "\n",
       "    .dataframe tbody tr th {\n",
       "        vertical-align: top;\n",
       "    }\n",
       "\n",
       "    .dataframe thead th {\n",
       "        text-align: right;\n",
       "    }\n",
       "</style>\n",
       "<table border=\"1\" class=\"dataframe\">\n",
       "  <thead>\n",
       "    <tr style=\"text-align: right;\">\n",
       "      <th></th>\n",
       "      <th>run_id</th>\n",
       "      <th>path_id</th>\n",
       "      <th>proximity</th>\n",
       "      <th>path_length</th>\n",
       "      <th>iteration_count</th>\n",
       "      <th>poi_density</th>\n",
       "      <th>cfe_density</th>\n",
       "      <th>actual_sparsity</th>\n",
       "      <th>batch_id</th>\n",
       "      <th>confidence_cutoff</th>\n",
       "      <th>num_clusters</th>\n",
       "      <th>poi_index</th>\n",
       "      <th>step_size</th>\n",
       "      <th>elapsed_recourse_seconds</th>\n",
       "      <th>elapsed_cluster_seconds</th>\n",
       "    </tr>\n",
       "    <tr>\n",
       "      <th>success</th>\n",
       "      <th></th>\n",
       "      <th></th>\n",
       "      <th></th>\n",
       "      <th></th>\n",
       "      <th></th>\n",
       "      <th></th>\n",
       "      <th></th>\n",
       "      <th></th>\n",
       "      <th></th>\n",
       "      <th></th>\n",
       "      <th></th>\n",
       "      <th></th>\n",
       "      <th></th>\n",
       "      <th></th>\n",
       "      <th></th>\n",
       "    </tr>\n",
       "  </thead>\n",
       "  <tbody>\n",
       "    <tr>\n",
       "      <th>1.0</th>\n",
       "      <td>3414</td>\n",
       "      <td>3414</td>\n",
       "      <td>3414</td>\n",
       "      <td>3414</td>\n",
       "      <td>3414</td>\n",
       "      <td>3414</td>\n",
       "      <td>3414</td>\n",
       "      <td>3414</td>\n",
       "      <td>3414</td>\n",
       "      <td>3414</td>\n",
       "      <td>3414</td>\n",
       "      <td>3414</td>\n",
       "      <td>3414</td>\n",
       "      <td>3414</td>\n",
       "      <td>3414</td>\n",
       "    </tr>\n",
       "  </tbody>\n",
       "</table>\n",
       "</div>"
      ],
      "text/plain": [
       "         run_id  path_id  proximity  path_length  iteration_count  \\\n",
       "success                                                             \n",
       "1.0        3414     3414       3414         3414             3414   \n",
       "\n",
       "         poi_density  cfe_density  actual_sparsity  batch_id  \\\n",
       "success                                                        \n",
       "1.0             3414         3414             3414      3414   \n",
       "\n",
       "         confidence_cutoff  num_clusters  poi_index  step_size  \\\n",
       "success                                                          \n",
       "1.0                   3414          3414       3414       3414   \n",
       "\n",
       "         elapsed_recourse_seconds  elapsed_cluster_seconds  \n",
       "success                                                     \n",
       "1.0                          3414                     3414  "
      ]
     },
     "execution_count": 7,
     "metadata": {},
     "output_type": "execute_result"
    }
   ],
   "source": [
    "DROP_METRICS = ['actual_sparsity', 'run_id', 'batch_id', 'confidence_cutoff', 'num_clusters', 'elapsed_recourse_seconds', 'elapsed_cluster_seconds']\n",
    "\n",
    "results.groupby('success').count()"
   ]
  },
  {
   "attachments": {},
   "cell_type": "markdown",
   "metadata": {},
   "source": [
    "# Iteration count\n",
    "\n",
    "Some rows have high iteration count. This is because those POIs are outliers."
   ]
  },
  {
   "cell_type": "code",
   "execution_count": 8,
   "metadata": {},
   "outputs": [
    {
     "data": {
      "text/plain": [
       "<AxesSubplot: xlabel='iteration_count', ylabel='Count'>"
      ]
     },
     "execution_count": 8,
     "metadata": {},
     "output_type": "execute_result"
    },
    {
     "data": {
      "image/png": "[encoded data removed]",
      "text/plain": [
       "<Figure size 640x480 with 1 Axes>"
      ]
     },
     "metadata": {},
     "output_type": "display_data"
    }
   ],
   "source": [
    "sns.histplot(results, x='iteration_count')"
   ]
  },
  {
   "cell_type": "code",
   "execution_count": 9,
   "metadata": {},
   "outputs": [
    {
     "data": {
      "text/plain": [
       "Text(0.5, 1.0, 'Z-Score distribution across full eval set')"
      ]
     },
     "execution_count": 9,
     "metadata": {},
     "output_type": "execute_result"
    },
    {
     "data": {
      "image/png": "[encoded data removed]",
      "text/plain": [
       "<Figure size 640x480 with 1 Axes>"
      ]
     },
     "metadata": {},
     "output_type": "display_data"
    }
   ],
   "source": [
    "eval_set_zscores = ((EVAL_DATASET - EVAL_DATASET.mean()) / EVAL_DATASET.std()).abs().max(axis=1)\n",
    "eval_set_zscores.name = 'maximum z-score'\n",
    "sns.histplot(eval_set_zscores)\n",
    "plt.title(\"Z-Score distribution across full eval set\")"
   ]
  },
  {
   "cell_type": "code",
   "execution_count": 10,
   "metadata": {},
   "outputs": [
    {
     "data": {
      "text/plain": [
       "Text(0.5, 1.0, 'Z-Score distribution across high iteration_count POIs')"
      ]
     },
     "execution_count": 10,
     "metadata": {},
     "output_type": "execute_result"
    },
    {
     "data": {
      "image/png": "[encoded data removed]",
      "text/plain": [
       "<Figure size 640x480 with 1 Axes>"
      ]
     },
     "metadata": {},
     "output_type": "display_data"
    }
   ],
   "source": [
    "high_iteration_pois = EVAL_DATASET.loc[results[results.iteration_count > 15].poi_index]\n",
    "high_iteration_zscores = ((high_iteration_pois - EVAL_DATASET.mean()) / EVAL_DATASET.std()).abs().max(axis=1)\n",
    "high_iteration_zscores.name = 'maximum z-score'\n",
    "sns.histplot(high_iteration_zscores)\n",
    "plt.title(\"Z-Score distribution across high iteration_count POIs\")"
   ]
  },
  {
   "attachments": {},
   "cell_type": "markdown",
   "metadata": {},
   "source": [
    "# Path Length"
   ]
  },
  {
   "cell_type": "code",
   "execution_count": 11,
   "metadata": {},
   "outputs": [
    {
     "data": {
      "text/plain": [
       "<AxesSubplot: xlabel='path_length', ylabel='Count'>"
      ]
     },
     "execution_count": 11,
     "metadata": {},
     "output_type": "execute_result"
    },
    {
     "data": {
      "image/png": "[encoded data removed]",
      "text/plain": [
       "<Figure size 640x480 with 1 Axes>"
      ]
     },
     "metadata": {},
     "output_type": "display_data"
    }
   ],
   "source": [
    "sns.histplot(results, x='path_length')"
   ]
  },
  {
   "attachments": {},
   "cell_type": "markdown",
   "metadata": {},
   "source": [
    "# Proximity\n",
    "\n",
    "QUESTION: Why do some points have high proximity?"
   ]
  },
  {
   "cell_type": "code",
   "execution_count": 12,
   "metadata": {},
   "outputs": [
    {
     "data": {
      "text/plain": [
       "<AxesSubplot: xlabel='proximity', ylabel='Count'>"
      ]
     },
     "execution_count": 12,
     "metadata": {},
     "output_type": "execute_result"
    },
    {
     "data": {
      "image/png": "[encoded data removed]",
      "text/plain": [
       "<Figure size 640x480 with 1 Axes>"
      ]
     },
     "metadata": {},
     "output_type": "display_data"
    }
   ],
   "source": [
    "sns.histplot(results, x='proximity')"
   ]
  },
  {
   "cell_type": "code",
   "execution_count": 39,
   "metadata": {},
   "outputs": [
    {
     "data": {
      "text/plain": [
       "<AxesSubplot: xlabel='proximity', ylabel='Count'>"
      ]
     },
     "execution_count": 39,
     "metadata": {},
     "output_type": "execute_result"
    },
    {
     "data": {
      "image/png": "[encoded data removed]",
      "text/plain": [
       "<Figure size 640x480 with 1 Axes>"
      ]
     },
     "metadata": {},
     "output_type": "display_data"
    }
   ],
   "source": [
    "min_prox_results = results.sort_values(['run_id', 'proximity']).iloc[range(0, 3414, 3)]\n",
    "sns.histplot(min_prox_results, x='proximity')"
   ]
  },
  {
   "cell_type": "code",
   "execution_count": 42,
   "metadata": {},
   "outputs": [
    {
     "data": {
      "text/html": [
       "<div>\n",
       "<style scoped>\n",
       "    .dataframe tbody tr th:only-of-type {\n",
       "        vertical-align: middle;\n",
       "    }\n",
       "\n",
       "    .dataframe tbody tr th {\n",
       "        vertical-align: top;\n",
       "    }\n",
       "\n",
       "    .dataframe thead th {\n",
       "        text-align: right;\n",
       "    }\n",
       "</style>\n",
       "<table border=\"1\" class=\"dataframe\">\n",
       "  <thead>\n",
       "    <tr style=\"text-align: right;\">\n",
       "      <th></th>\n",
       "      <th>run_id</th>\n",
       "      <th>path_id</th>\n",
       "      <th>success</th>\n",
       "      <th>proximity</th>\n",
       "      <th>path_length</th>\n",
       "      <th>iteration_count</th>\n",
       "      <th>poi_density</th>\n",
       "      <th>cfe_density</th>\n",
       "      <th>actual_sparsity</th>\n",
       "      <th>batch_id</th>\n",
       "      <th>confidence_cutoff</th>\n",
       "      <th>num_clusters</th>\n",
       "      <th>poi_index</th>\n",
       "      <th>step_size</th>\n",
       "      <th>elapsed_recourse_seconds</th>\n",
       "      <th>elapsed_cluster_seconds</th>\n",
       "    </tr>\n",
       "  </thead>\n",
       "  <tbody>\n",
       "    <tr>\n",
       "      <th>2141</th>\n",
       "      <td>511.0</td>\n",
       "      <td>2.0</td>\n",
       "      <td>1.0</td>\n",
       "      <td>1.996954</td>\n",
       "      <td>2.0</td>\n",
       "      <td>3.0</td>\n",
       "      <td>-10.056721</td>\n",
       "      <td>-1.571048</td>\n",
       "      <td>20.0</td>\n",
       "      <td>511</td>\n",
       "      <td>0.7</td>\n",
       "      <td>3</td>\n",
       "      <td>5125</td>\n",
       "      <td>1</td>\n",
       "      <td>2.383479</td>\n",
       "      <td>0.568176</td>\n",
       "    </tr>\n",
       "  </tbody>\n",
       "</table>\n",
       "</div>"
      ],
      "text/plain": [
       "      run_id  path_id  success  proximity  path_length  iteration_count  \\\n",
       "2141   511.0      2.0      1.0   1.996954          2.0              3.0   \n",
       "\n",
       "      poi_density  cfe_density  actual_sparsity  batch_id  confidence_cutoff  \\\n",
       "2141   -10.056721    -1.571048             20.0       511                0.7   \n",
       "\n",
       "      num_clusters  poi_index  step_size  elapsed_recourse_seconds  \\\n",
       "2141             3       5125          1                  2.383479   \n",
       "\n",
       "      elapsed_cluster_seconds  \n",
       "2141                 0.568176  "
      ]
     },
     "execution_count": 42,
     "metadata": {},
     "output_type": "execute_result"
    }
   ],
   "source": [
    "min_prox_results[min_prox_results.poi_index == 5125]"
   ]
  },
  {
   "cell_type": "code",
   "execution_count": 36,
   "metadata": {},
   "outputs": [
    {
     "data": {
      "text/plain": [
       "AGE              -4.742171\n",
       "BILL_AMT1     20206.393463\n",
       "BILL_AMT2      3021.918610\n",
       "BILL_AMT3      5636.688952\n",
       "BILL_AMT4     14211.255348\n",
       "BILL_AMT5     11666.422366\n",
       "BILL_AMT6     13967.079397\n",
       "LIMIT_BAL    148197.138040\n",
       "PAY_1            -0.848257\n",
       "PAY_2             0.001947\n",
       "PAY_3             0.000635\n",
       "PAY_4             0.005132\n",
       "PAY_5             0.000549\n",
       "PAY_6             0.002125\n",
       "PAY_AMT1      -7027.983558\n",
       "PAY_AMT2      -3080.664227\n",
       "PAY_AMT3       5878.527443\n",
       "PAY_AMT4       2195.379201\n",
       "PAY_AMT5       5356.501937\n",
       "PAY_AMT6     -12300.549864\n",
       "Y                      NaN\n",
       "batch_id               NaN\n",
       "path_id                NaN\n",
       "run_id                 NaN\n",
       "step_id                NaN\n",
       "dtype: float64"
      ]
     },
     "execution_count": 36,
     "metadata": {},
     "output_type": "execute_result"
    }
   ],
   "source": [
    "path_df[(path_df.run_id == 511) & (path_df.path_id == 2)].iloc[-1] - EVAL_DATASET.loc[5125]"
   ]
  },
  {
   "cell_type": "code",
   "execution_count": 37,
   "metadata": {},
   "outputs": [
    {
     "data": {
      "text/plain": [
       "LIMIT_BAL    298197.138040\n",
       "AGE              35.257829\n",
       "PAY_1             0.151743\n",
       "PAY_2             0.001947\n",
       "PAY_3             0.000635\n",
       "PAY_4             0.005132\n",
       "PAY_5             0.000549\n",
       "PAY_6             0.002125\n",
       "BILL_AMT1     20191.393463\n",
       "BILL_AMT2     20692.918610\n",
       "BILL_AMT3     20153.688952\n",
       "BILL_AMT4     16081.255348\n",
       "BILL_AMT5     15161.422366\n",
       "BILL_AMT6     13967.079397\n",
       "PAY_AMT1      10658.016442\n",
       "PAY_AMT2      11436.335773\n",
       "PAY_AMT3       5878.527443\n",
       "PAY_AMT4       5690.379201\n",
       "PAY_AMT5       5356.501937\n",
       "PAY_AMT6       9453.450136\n",
       "step_id           2.000000\n",
       "path_id           2.000000\n",
       "run_id          511.000000\n",
       "batch_id        511.000000\n",
       "Name: 15612, dtype: float64"
      ]
     },
     "execution_count": 37,
     "metadata": {},
     "output_type": "execute_result"
    }
   ],
   "source": [
    "path_df[(path_df.run_id == 511) & (path_df.path_id == 2)].iloc[-1]"
   ]
  },
  {
   "cell_type": "code",
   "execution_count": 38,
   "metadata": {},
   "outputs": [
    {
     "data": {
      "text/plain": [
       "LIMIT_BAL    150000\n",
       "AGE              40\n",
       "PAY_1             1\n",
       "PAY_2             0\n",
       "PAY_3             0\n",
       "PAY_4             0\n",
       "PAY_5             0\n",
       "PAY_6             0\n",
       "BILL_AMT1       -15\n",
       "BILL_AMT2     17671\n",
       "BILL_AMT3     14517\n",
       "BILL_AMT4      1870\n",
       "BILL_AMT5      3495\n",
       "BILL_AMT6         0\n",
       "PAY_AMT1      17686\n",
       "PAY_AMT2      14517\n",
       "PAY_AMT3          0\n",
       "PAY_AMT4       3495\n",
       "PAY_AMT5          0\n",
       "PAY_AMT6      21754\n",
       "Y                 0\n",
       "Name: 5125, dtype: int64"
      ]
     },
     "execution_count": 38,
     "metadata": {},
     "output_type": "execute_result"
    }
   ],
   "source": [
    "EVAL_DATASET.loc[5125]"
   ]
  },
  {
   "cell_type": "code",
   "execution_count": 41,
   "metadata": {},
   "outputs": [
    {
     "name": "stderr",
     "output_type": "stream",
     "text": [
      "/home/jakeval/umass/research/.venv/lib/python3.8/site-packages/sklearn/manifold/_t_sne.py:800: FutureWarning: The default initialization in TSNE will change from 'random' to 'pca' in 1.2.\n",
      "  warnings.warn(\n"
     ]
    },
    {
     "data": {
      "text/plain": [
       "<matplotlib.collections.PathCollection at 0x7f2e71e95280>"
      ]
     },
     "execution_count": 41,
     "metadata": {},
     "output_type": "execute_result"
    },
    {
     "data": {
      "image/png": "[encoded data removed]",
      "text/plain": [
       "<Figure size 640x480 with 1 Axes>"
      ]
     },
     "metadata": {},
     "output_type": "display_data"
    }
   ],
   "source": [
    "pois = EVAL_DATASET.loc[min_prox_results.poi_index]\n",
    "tsne = manifold.TSNE(learning_rate='auto')\n",
    "tsne_data = tsne.fit_transform(pois.drop(columns='Y'))\n",
    "plt.scatter(x=tsne_data[:,0], y=tsne_data[:,1], c=min_prox_results.proximity)"
   ]
  },
  {
   "attachments": {},
   "cell_type": "markdown",
   "metadata": {},
   "source": [
    "# Density"
   ]
  },
  {
   "cell_type": "code",
   "execution_count": 13,
   "metadata": {},
   "outputs": [
    {
     "data": {
      "text/plain": [
       "(-150.0, 5.0)"
      ]
     },
     "execution_count": 13,
     "metadata": {},
     "output_type": "execute_result"
    },
    {
     "data": {
      "image/png": "[encoded data removed]",
      "text/plain": [
       "<Figure size 640x480 with 1 Axes>"
      ]
     },
     "metadata": {},
     "output_type": "display_data"
    }
   ],
   "source": [
    "sns.histplot(results, x='poi_density')\n",
    "plt.xlim(-150, 5)"
   ]
  },
  {
   "cell_type": "code",
   "execution_count": 14,
   "metadata": {},
   "outputs": [
    {
     "data": {
      "text/plain": [
       "(-150.0, 5.0)"
      ]
     },
     "execution_count": 14,
     "metadata": {},
     "output_type": "execute_result"
    },
    {
     "data": {
      "image/png": "[encoded data removed]",
      "text/plain": [
       "<Figure size 640x480 with 1 Axes>"
      ]
     },
     "metadata": {},
     "output_type": "display_data"
    }
   ],
   "source": [
    "sns.histplot(results, x='cfe_density')\n",
    "plt.xlim(-150, 5)"
   ]
  },
  {
   "cell_type": "code",
   "execution_count": 15,
   "metadata": {},
   "outputs": [
    {
     "data": {
      "text/html": [
       "<div>\n",
       "<style scoped>\n",
       "    .dataframe tbody tr th:only-of-type {\n",
       "        vertical-align: middle;\n",
       "    }\n",
       "\n",
       "    .dataframe tbody tr th {\n",
       "        vertical-align: top;\n",
       "    }\n",
       "\n",
       "    .dataframe thead th {\n",
       "        text-align: right;\n",
       "    }\n",
       "</style>\n",
       "<table border=\"1\" class=\"dataframe\">\n",
       "  <thead>\n",
       "    <tr style=\"text-align: right;\">\n",
       "      <th></th>\n",
       "      <th>cfe_density</th>\n",
       "      <th>poi_density</th>\n",
       "      <th>proximity</th>\n",
       "    </tr>\n",
       "    <tr>\n",
       "      <th>path_id</th>\n",
       "      <th></th>\n",
       "      <th></th>\n",
       "      <th></th>\n",
       "    </tr>\n",
       "  </thead>\n",
       "  <tbody>\n",
       "    <tr>\n",
       "      <th>0.0</th>\n",
       "      <td>-1.789842</td>\n",
       "      <td>-7.64285</td>\n",
       "      <td>7.773360</td>\n",
       "    </tr>\n",
       "    <tr>\n",
       "      <th>1.0</th>\n",
       "      <td>-36.269510</td>\n",
       "      <td>-7.64285</td>\n",
       "      <td>5.910424</td>\n",
       "    </tr>\n",
       "    <tr>\n",
       "      <th>2.0</th>\n",
       "      <td>-0.963949</td>\n",
       "      <td>-7.64285</td>\n",
       "      <td>5.372617</td>\n",
       "    </tr>\n",
       "  </tbody>\n",
       "</table>\n",
       "</div>"
      ],
      "text/plain": [
       "         cfe_density  poi_density  proximity\n",
       "path_id                                     \n",
       "0.0        -1.789842     -7.64285   7.773360\n",
       "1.0       -36.269510     -7.64285   5.910424\n",
       "2.0        -0.963949     -7.64285   5.372617"
      ]
     },
     "execution_count": 15,
     "metadata": {},
     "output_type": "execute_result"
    }
   ],
   "source": [
    "results.groupby('path_id').mean()[['cfe_density', 'poi_density', 'proximity']]"
   ]
  },
  {
   "attachments": {},
   "cell_type": "markdown",
   "metadata": {},
   "source": [
    "# Some observations\n",
    "\n",
    "* Unlike DICE, StEP sometimes recommends paying less\n",
    "* StEP has broader spread of top-3 columns\n",
    "* PAY_AMT1, PAY_AMT3, PAY_AMT4, PAY_4, PAY_5, PAY_6"
   ]
  },
  {
   "cell_type": "code",
   "execution_count": 16,
   "metadata": {},
   "outputs": [
    {
     "data": {
      "text/plain": [
       "LIMIT_BAL    1.589880\n",
       "AGE          0.758618\n",
       "PAY_1        1.650408\n",
       "PAY_2        1.386669\n",
       "PAY_3        1.200510\n",
       "PAY_4        1.081319\n",
       "PAY_5        1.041513\n",
       "PAY_6        1.016732\n",
       "BILL_AMT1    1.086214\n",
       "BILL_AMT2    1.118546\n",
       "BILL_AMT3    1.104346\n",
       "BILL_AMT4    1.184455\n",
       "BILL_AMT5    1.240697\n",
       "BILL_AMT6    1.208213\n",
       "PAY_AMT1     0.963259\n",
       "PAY_AMT2     0.613323\n",
       "PAY_AMT3     0.871999\n",
       "PAY_AMT4     0.937347\n",
       "PAY_AMT5     0.693541\n",
       "PAY_AMT6     0.614917\n",
       "dtype: float64"
      ]
     },
     "execution_count": 16,
     "metadata": {},
     "output_type": "execute_result"
    }
   ],
   "source": [
    "differences = ADAPTER.transform(cfes).drop(columns=['step_id', 'path_id', 'run_id', 'batch_id']).reset_index(drop=True) - ADAPTER.transform(pois.drop(columns = ['step_id', 'path_id', 'run_id', 'batch_id'])).reset_index(drop=True)\n",
    "\n",
    "(differences.abs()).mean()"
   ]
  },
  {
   "cell_type": "code",
   "execution_count": 19,
   "metadata": {},
   "outputs": [
    {
     "data": {
      "text/plain": [
       "LIMIT_BAL    True\n",
       "AGE          True\n",
       "PAY_1        True\n",
       "PAY_2        True\n",
       "PAY_3        True\n",
       "PAY_4        True\n",
       "PAY_5        True\n",
       "PAY_6        True\n",
       "BILL_AMT1    True\n",
       "BILL_AMT2    True\n",
       "BILL_AMT3    True\n",
       "BILL_AMT4    True\n",
       "BILL_AMT5    True\n",
       "BILL_AMT6    True\n",
       "PAY_AMT1     True\n",
       "PAY_AMT2     True\n",
       "PAY_AMT3     True\n",
       "PAY_AMT4     True\n",
       "PAY_AMT5     True\n",
       "PAY_AMT6     True\n",
       "dtype: bool"
      ]
     },
     "execution_count": 19,
     "metadata": {},
     "output_type": "execute_result"
    }
   ],
   "source": [
    "(differences < 0).any()"
   ]
  },
  {
   "cell_type": "code",
   "execution_count": 20,
   "metadata": {},
   "outputs": [
    {
     "data": {
      "text/plain": [
       "col1       col2       col3     \n",
       "PAY_AMT1   PAY_AMT3   PAY_AMT4    -637\n",
       "PAY_4      PAY_5      PAY_6       -427\n",
       "LIMIT_BAL  AGE        PAY_1       -163\n",
       "PAY_5      PAY_AMT1   PAY_AMT4    -157\n",
       "BILL_AMT4  BILL_AMT5  BILL_AMT6   -149\n",
       "BILL_AMT1  BILL_AMT4  BILL_AMT5   -129\n",
       "LIMIT_BAL  PAY_1      PAY_2       -101\n",
       "PAY_1      PAY_2      PAY_3        -99\n",
       "PAY_2      PAY_3      PAY_4        -67\n",
       "PAY_1      PAY_AMT1   PAY_AMT4     -51\n",
       "           PAY_3      PAY_4        -48\n",
       "           BILL_AMT5  BILL_AMT6    -46\n",
       "LIMIT_BAL  PAY_1      PAY_AMT1     -44\n",
       "           PAY_2      PAY_3        -41\n",
       "BILL_AMT1  BILL_AMT2  BILL_AMT5    -41\n",
       "PAY_5      PAY_6      BILL_AMT1    -39\n",
       "PAY_6      PAY_AMT1   PAY_AMT4     -34\n",
       "PAY_2      PAY_AMT1   PAY_AMT4     -30\n",
       "           PAY_5      PAY_6        -29\n",
       "PAY_1      PAY_5      PAY_6        -29\n",
       "dtype: int64"
      ]
     },
     "execution_count": 20,
     "metadata": {},
     "output_type": "execute_result"
    }
   ],
   "source": [
    "df = pd.DataFrame(data = np.sort((-differences.abs().to_numpy()).argpartition(kth=3, axis=1)[:,:3], axis=1), columns=['col1', 'col2', 'col3'])\n",
    "df['col1'] = differences.columns[df.col1]\n",
    "df['col2'] = differences.columns[df.col2]\n",
    "df['col3'] = differences.columns[df.col3]\n",
    "\n",
    "(-df.groupby(['col1', 'col2', 'col3']).size()).sort_values()[:20]"
   ]
  },
  {
   "cell_type": "code",
   "execution_count": null,
   "metadata": {},
   "outputs": [],
   "source": []
  }
 ],
 "metadata": {
  "kernelspec": {
   "display_name": ".venv",
   "language": "python",
   "name": "python3"
  },
  "language_info": {
   "codemirror_mode": {
    "name": "ipython",
    "version": 3
   },
   "file_extension": ".py",
   "mimetype": "text/x-python",
   "name": "python",
   "nbconvert_exporter": "python",
   "pygments_lexer": "ipython3",
   "version": "3.8.10"
  },
  "orig_nbformat": 4,
  "vscode": {
   "interpreter": {
    "hash": "544bbcec4a3402c4ea95887680bbb478b7040f8d29544f0f161653d15df00b63"
   }
  }
 },
 "nbformat": 4,
 "nbformat_minor": 2
}
