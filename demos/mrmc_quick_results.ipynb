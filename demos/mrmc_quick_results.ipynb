{
 "cells": [
  {
   "cell_type": "markdown",
   "id": "75d88f54",
   "metadata": {},
   "source": [
    "# DiCE Results on Credit Card Default"
   ]
  },
  {
   "cell_type": "code",
   "execution_count": 2,
   "id": "ac607701",
   "metadata": {},
   "outputs": [],
   "source": [
    "import sys\n",
    "import os\n",
    "sys.path.append(os.path.join(os.getcwd(), '..'))\n",
    "\n",
    "%load_ext autoreload\n",
    "%autoreload 2\n",
    "\n",
    "import matplotlib.pyplot as plt\n",
    "from recourse_methods import mrmc_method\n",
    "from models import regression\n",
    "from core import recourse_iterator\n",
    "from data.datasets.credit_card_default import credit_card_default_loader\n",
    "from data.adapters import continuous_adapter\n",
    "from models import model_utils\n",
    "from core import utils\n",
    "from visualize.two_d_plots import Display2DPaths"
   ]
  },
  {
   "cell_type": "markdown",
   "id": "f729b5d7",
   "metadata": {},
   "source": [
    "## Load the data and model"
   ]
  },
  {
   "cell_type": "code",
   "execution_count": 3,
   "id": "604954d4",
   "metadata": {},
   "outputs": [],
   "source": [
    "data_loader = credit_card_default_loader.CreditCardDefaultLoader()\n",
    "dataset = data_loader.load_data()\n",
    "preprocessor = continuous_adapter.StandardizingAdapter(perturb_ratio=0.1).fit(dataset)\n",
    "\n",
    "model = regression.simple_model(dataset, preprocessor, 0)"
   ]
  },
  {
   "cell_type": "code",
   "execution_count": 4,
   "id": "55140f44",
   "metadata": {},
   "outputs": [
    {
     "name": "stdout",
     "output_type": "stream",
     "text": [
      "[[0.55119158 0.44880842]\n",
      " [0.20273353 0.79726647]\n",
      " [0.14971968 0.85028032]\n",
      " ...\n",
      " [0.90796965 0.09203035]\n",
      " [0.16483424 0.83516576]\n",
      " [0.18284051 0.81715949]]\n",
      "[-1  1  1 ... -1  1  1]\n"
     ]
    },
    {
     "name": "stderr",
     "output_type": "stream",
     "text": [
      "/home/jakeval/umass/research/.env/lib/python3.8/site-packages/sklearn/base.py:443: UserWarning: X has feature names, but LogisticRegression was fitted without feature names\n",
      "  warnings.warn(\n",
      "/home/jakeval/umass/research/.env/lib/python3.8/site-packages/sklearn/base.py:443: UserWarning: X has feature names, but LogisticRegression was fitted without feature names\n",
      "  warnings.warn(\n"
     ]
    }
   ],
   "source": [
    "X = preprocessor.transform(dataset).drop('Y', axis=1)\n",
    "print(model.predict_proba(X))\n",
    "print(model.predict(X))"
   ]
  },
  {
   "cell_type": "code",
   "execution_count": 5,
   "id": "9a82d745",
   "metadata": {
    "scrolled": false
   },
   "outputs": [
    {
     "name": "stderr",
     "output_type": "stream",
     "text": [
      "/home/jakeval/umass/research/.env/lib/python3.8/site-packages/sklearn/base.py:443: UserWarning: X has feature names, but LogisticRegression was fitted without feature names\n",
      "  warnings.warn(\n"
     ]
    }
   ],
   "source": [
    "k_directions = 3\n",
    "check_certainty = recourse_iterator.wrap_model(model, positive_index=1)\n",
    "certainty_cutoff = 0.75\n",
    "\n",
    "mrmc = mrmc_method.MRMC(\n",
    "    k_directions,\n",
    "    preprocessor,\n",
    "    dataset,\n",
    "    label_column='Y',\n",
    "    positive_label=0,\n",
    "    rescale_direction=mrmc_method.get_constant_step_size_rescaler(0.5)).filter_data(0.75, model)"
   ]
  },
  {
   "cell_type": "code",
   "execution_count": 6,
   "id": "a3655319",
   "metadata": {},
   "outputs": [],
   "source": [
    "def run_trial(mrmc, preprocessor, certainty_cutoff, check_certainty):\n",
    "    poi = utils.random_poi(dataset, column='Y', label = 1)\n",
    "    iterator = recourse_iterator.RecourseIterator(\n",
    "        mrmc,\n",
    "        preprocessor,\n",
    "        certainty_cutoff=certainty_cutoff,\n",
    "        check_certainty=check_certainty)\n",
    "    paths = iterator.iterate_k_recourse_paths(poi, 20)\n",
    "    return paths"
   ]
  },
  {
   "cell_type": "code",
   "execution_count": 64,
   "id": "2a86ab60",
   "metadata": {},
   "outputs": [
    {
     "name": "stdout",
     "output_type": "stream",
     "text": [
      "trial  0\n",
      "trial  1\n",
      "trial  2\n",
      "trial  3\n",
      "trial  4\n",
      "trial  5\n",
      "trial  6\n",
      "trial  7\n",
      "trial  8\n",
      "trial  9\n"
     ]
    }
   ],
   "source": [
    "trials = 10\n",
    "\n",
    "trial_paths = []\n",
    "\n",
    "for i in range(trials):\n",
    "    print(\"trial \", i)\n",
    "    paths = run_trial(mrmc, preprocessor, certainty_cutoff, check_certainty)\n",
    "    trial_paths.append(paths)"
   ]
  },
  {
   "cell_type": "code",
   "execution_count": 65,
   "id": "613c4df8",
   "metadata": {},
   "outputs": [],
   "source": [
    "def calculate_path_length(path):\n",
    "    path = preprocessor.transform(path).to_numpy()\n",
    "    length = 0\n",
    "    for i in range(1, path.shape[0]):\n",
    "        length += ((path[i] - path[i-1])**2).sum()**0.5\n",
    "    return length"
   ]
  },
  {
   "cell_type": "code",
   "execution_count": 66,
   "id": "1aef3ad5",
   "metadata": {},
   "outputs": [
    {
     "name": "stdout",
     "output_type": "stream",
     "text": [
      "1.0\n",
      "4.95\n"
     ]
    }
   ],
   "source": [
    "total_paths = 0\n",
    "total_succeeded = 0\n",
    "total_path_length = 0\n",
    "\n",
    "\n",
    "for paths in trial_paths:\n",
    "    for path in paths:\n",
    "        total_paths += 1\n",
    "        if check_certainty(path.iloc[-1]) > certainty_cutoff:\n",
    "            total_succeeded += 1\n",
    "        total_path_length += calculate_path_length(path)\n",
    "        \n",
    "\n",
    "print(total_succeeded / total_paths)\n",
    "print(total_path_length / total_paths)"
   ]
  },
  {
   "cell_type": "code",
   "execution_count": null,
   "id": "30ec6ec5",
   "metadata": {},
   "outputs": [],
   "source": []
  }
 ],
 "metadata": {
  "kernelspec": {
   "display_name": "Python 3 (ipykernel)",
   "language": "python",
   "name": "python3"
  },
  "language_info": {
   "codemirror_mode": {
    "name": "ipython",
    "version": 3
   },
   "file_extension": ".py",
   "mimetype": "text/x-python",
   "name": "python",
   "nbconvert_exporter": "python",
   "pygments_lexer": "ipython3",
   "version": "3.8.5"
  }
 },
 "nbformat": 4,
 "nbformat_minor": 5
}
