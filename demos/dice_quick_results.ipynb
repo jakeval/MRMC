{
 "cells": [
  {
   "cell_type": "markdown",
   "id": "75d88f54",
   "metadata": {},
   "source": [
    "# DiCE Results on Credit Card Default"
   ]
  },
  {
   "cell_type": "code",
   "execution_count": 2,
   "id": "ac607701",
   "metadata": {},
   "outputs": [
    {
     "name": "stdout",
     "output_type": "stream",
     "text": [
      "The autoreload extension is already loaded. To reload it, use:\n",
      "  %reload_ext autoreload\n"
     ]
    }
   ],
   "source": [
    "import sys\n",
    "import os\n",
    "sys.path.append(os.path.join(os.getcwd(), '..'))\n",
    "\n",
    "%load_ext autoreload\n",
    "%autoreload 2\n",
    "\n",
    "import matplotlib.pyplot as plt\n",
    "from recourse_methods import dice_method\n",
    "from models import regression\n",
    "from core import recourse_iterator\n",
    "from data.datasets.credit_card_default import credit_card_default_loader\n",
    "from data.adapters import continuous_adapter\n",
    "from models import model_utils\n",
    "from core import utils\n",
    "from visualize.two_d_plots import Display2DPaths"
   ]
  },
  {
   "cell_type": "markdown",
   "id": "f729b5d7",
   "metadata": {},
   "source": [
    "## Load the data and model"
   ]
  },
  {
   "cell_type": "code",
   "execution_count": 3,
   "id": "604954d4",
   "metadata": {},
   "outputs": [
    {
     "name": "stdout",
     "output_type": "stream",
     "text": [
      "[[0.55119158 0.44880842]\n",
      " [0.20273353 0.79726647]\n",
      " [0.14971968 0.85028032]\n",
      " ...\n",
      " [0.90796965 0.09203035]\n",
      " [0.16483424 0.83516576]\n",
      " [0.18284051 0.81715949]]\n",
      "[-1  1  1 ... -1  1  1]\n"
     ]
    },
    {
     "name": "stderr",
     "output_type": "stream",
     "text": [
      "/home/jakeval/umass/research/.env/lib/python3.8/site-packages/sklearn/base.py:443: UserWarning: X has feature names, but LogisticRegression was fitted without feature names\n",
      "  warnings.warn(\n",
      "/home/jakeval/umass/research/.env/lib/python3.8/site-packages/sklearn/base.py:443: UserWarning: X has feature names, but LogisticRegression was fitted without feature names\n",
      "  warnings.warn(\n"
     ]
    }
   ],
   "source": [
    "data_loader = credit_card_default_loader.CreditCardDefaultLoader()\n",
    "dataset = data_loader.load_data()\n",
    "preprocessor = continuous_adapter.StandardizingAdapter(perturb_ratio=0.1).fit(dataset)\n",
    "\n",
    "model = regression.simple_model(dataset, preprocessor, 0)\n",
    "\n",
    "X = preprocessor.transform(dataset).drop('Y', axis=1)\n",
    "print(model.predict_proba(X))\n",
    "print(model.predict(X))"
   ]
  },
  {
   "cell_type": "markdown",
   "id": "9b59d945",
   "metadata": {},
   "source": [
    "## Generate some paths\n",
    "\n",
    "Because DiCE generates counterfactual examples, the first direction it gives typically terminates in a valid CFE."
   ]
  },
  {
   "cell_type": "code",
   "execution_count": 4,
   "id": "9a82d745",
   "metadata": {
    "scrolled": false
   },
   "outputs": [],
   "source": [
    "k_directions = 3\n",
    "check_certainty = recourse_iterator.wrap_model(model, positive_index=1)\n",
    "certainty_cutoff = 0.75\n",
    "\n",
    "dice = dice_method.DiCE(\n",
    "    k_directions,\n",
    "    preprocessor,\n",
    "    dataset,\n",
    "    list(preprocessor.continuous_features),\n",
    "    model,\n",
    "    model_backend='sklearn',\n",
    "    label_column='Y',\n",
    "    dice_cfe_kwargs={'stopping_threshold': certainty_cutoff})"
   ]
  },
  {
   "cell_type": "code",
   "execution_count": 7,
   "id": "a012e86c",
   "metadata": {},
   "outputs": [],
   "source": [
    "def run_trial(dice, preprocessor, certainty_cutoff, check_certainty):\n",
    "    poi = utils.random_poi(dataset, column='Y', label = 1)\n",
    "    iterator = recourse_iterator.RecourseIterator(\n",
    "        dice,\n",
    "        preprocessor,\n",
    "        certainty_cutoff=certainty_cutoff,\n",
    "        check_certainty=check_certainty)\n",
    "    paths = iterator.iterate_k_recourse_paths(poi, 20)\n",
    "    return paths"
   ]
  },
  {
   "cell_type": "code",
   "execution_count": 8,
   "id": "b1fd27d6",
   "metadata": {},
   "outputs": [
    {
     "name": "stderr",
     "output_type": "stream",
     "text": [
      "100%|████████████████████████████████████████████████████████████████████████████| 1/1 [00:00<00:00,  1.43it/s]\n",
      "100%|████████████████████████████████████████████████████████████████████████████| 1/1 [00:00<00:00,  1.85it/s]\n",
      "100%|████████████████████████████████████████████████████████████████████████████| 1/1 [00:00<00:00,  2.14it/s]\n",
      "100%|████████████████████████████████████████████████████████████████████████████| 1/1 [00:00<00:00,  1.52it/s]\n",
      "100%|████████████████████████████████████████████████████████████████████████████| 1/1 [00:00<00:00,  1.64it/s]\n",
      "100%|████████████████████████████████████████████████████████████████████████████| 1/1 [00:00<00:00,  2.31it/s]\n",
      "100%|████████████████████████████████████████████████████████████████████████████| 1/1 [00:00<00:00,  1.67it/s]\n",
      "100%|████████████████████████████████████████████████████████████████████████████| 1/1 [00:00<00:00,  1.85it/s]\n",
      "100%|████████████████████████████████████████████████████████████████████████████| 1/1 [00:00<00:00,  1.65it/s]\n",
      "100%|████████████████████████████████████████████████████████████████████████████| 1/1 [00:00<00:00,  1.85it/s]\n",
      "100%|████████████████████████████████████████████████████████████████████████████| 1/1 [00:00<00:00,  1.34it/s]\n",
      "100%|████████████████████████████████████████████████████████████████████████████| 1/1 [00:00<00:00,  2.15it/s]\n",
      "100%|████████████████████████████████████████████████████████████████████████████| 1/1 [00:00<00:00,  2.08it/s]\n",
      "100%|████████████████████████████████████████████████████████████████████████████| 1/1 [00:00<00:00,  1.89it/s]\n",
      "100%|████████████████████████████████████████████████████████████████████████████| 1/1 [00:00<00:00,  1.51it/s]\n",
      "100%|████████████████████████████████████████████████████████████████████████████| 1/1 [00:00<00:00,  2.07it/s]\n",
      "100%|████████████████████████████████████████████████████████████████████████████| 1/1 [00:00<00:00,  2.30it/s]\n",
      "100%|████████████████████████████████████████████████████████████████████████████| 1/1 [00:00<00:00,  1.32it/s]\n",
      "100%|████████████████████████████████████████████████████████████████████████████| 1/1 [00:00<00:00,  1.61it/s]\n",
      "100%|████████████████████████████████████████████████████████████████████████████| 1/1 [00:00<00:00,  1.72it/s]\n",
      "100%|████████████████████████████████████████████████████████████████████████████| 1/1 [00:00<00:00,  1.82it/s]\n",
      "100%|████████████████████████████████████████████████████████████████████████████| 1/1 [00:00<00:00,  1.82it/s]\n",
      "100%|████████████████████████████████████████████████████████████████████████████| 1/1 [00:00<00:00,  2.12it/s]\n",
      "100%|████████████████████████████████████████████████████████████████████████████| 1/1 [00:01<00:00,  1.02s/it]\n",
      "100%|████████████████████████████████████████████████████████████████████████████| 1/1 [00:00<00:00,  1.85it/s]\n",
      "100%|████████████████████████████████████████████████████████████████████████████| 1/1 [00:00<00:00,  2.10it/s]\n",
      "100%|████████████████████████████████████████████████████████████████████████████| 1/1 [00:00<00:00,  2.05it/s]\n",
      "100%|████████████████████████████████████████████████████████████████████████████| 1/1 [00:00<00:00,  1.58it/s]\n",
      "100%|████████████████████████████████████████████████████████████████████████████| 1/1 [00:01<00:00,  1.16s/it]\n",
      "100%|████████████████████████████████████████████████████████████████████████████| 1/1 [00:00<00:00,  1.38it/s]\n",
      "100%|████████████████████████████████████████████████████████████████████████████| 1/1 [00:00<00:00,  1.80it/s]\n",
      "100%|████████████████████████████████████████████████████████████████████████████| 1/1 [00:00<00:00,  1.94it/s]\n",
      "100%|████████████████████████████████████████████████████████████████████████████| 1/1 [00:00<00:00,  2.10it/s]\n"
     ]
    }
   ],
   "source": [
    "trials = 10\n",
    "\n",
    "trial_paths = []\n",
    "\n",
    "for i in range(trials):\n",
    "    paths = run_trial(dice, preprocessor, certainty_cutoff, check_certainty)\n",
    "    trial_paths.append(paths)"
   ]
  },
  {
   "cell_type": "code",
   "execution_count": 9,
   "id": "b55bc3d8",
   "metadata": {},
   "outputs": [],
   "source": [
    "def calculate_path_length(path):\n",
    "    path = preprocessor.transform(path).to_numpy()\n",
    "    length = 0\n",
    "    for i in range(1, path.shape[0]):\n",
    "        length += ((path[i] - path[i-1])**2).sum()**0.5\n",
    "    return length"
   ]
  },
  {
   "cell_type": "code",
   "execution_count": 10,
   "id": "1aef3ad5",
   "metadata": {},
   "outputs": [
    {
     "name": "stdout",
     "output_type": "stream",
     "text": [
      "0.9666666666666667\n",
      "53.17366265329683\n"
     ]
    }
   ],
   "source": [
    "total_paths = 0\n",
    "total_succeeded = 0\n",
    "total_path_length = 0\n",
    "\n",
    "\n",
    "for paths in trial_paths:\n",
    "    for path in paths:\n",
    "        total_paths += 1\n",
    "        if check_certainty(path.iloc[-1]) > certainty_cutoff:\n",
    "            total_succeeded += 1\n",
    "        total_path_length += calculate_path_length(path)\n",
    "        \n",
    "\n",
    "print(total_succeeded / total_paths)\n",
    "print(total_path_length / total_paths)"
   ]
  },
  {
   "cell_type": "code",
   "execution_count": null,
   "id": "b83d9fb5",
   "metadata": {},
   "outputs": [],
   "source": []
  }
 ],
 "metadata": {
  "kernelspec": {
   "display_name": "Python 3 (ipykernel)",
   "language": "python",
   "name": "python3"
  },
  "language_info": {
   "codemirror_mode": {
    "name": "ipython",
    "version": 3
   },
   "file_extension": ".py",
   "mimetype": "text/x-python",
   "name": "python",
   "nbconvert_exporter": "python",
   "pygments_lexer": "ipython3",
   "version": "3.8.5"
  }
 },
 "nbformat": 4,
 "nbformat_minor": 5
}
