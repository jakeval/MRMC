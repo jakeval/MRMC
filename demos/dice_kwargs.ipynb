{
 "cells": [
  {
   "cell_type": "code",
   "execution_count": 128,
   "metadata": {},
   "outputs": [
    {
     "name": "stdout",
     "output_type": "stream",
     "text": [
      "The autoreload extension is already loaded. To reload it, use:\n",
      "  %reload_ext autoreload\n"
     ]
    }
   ],
   "source": [
    "import sys\n",
    "import os\n",
    "sys.path.append(os.path.join(os.getcwd(), '..'))\n",
    "\n",
    "%load_ext autoreload\n",
    "%autoreload 2\n",
    "\n",
    "import numpy as np\n",
    "import matplotlib.pyplot as plt\n",
    "from sklearn import linear_model\n",
    "from recourse_methods import mrmc_method, dice_method\n",
    "from core import recourse_iterator\n",
    "from data import data_loader\n",
    "from data.adapters import continuous_adapter\n",
    "from core import utils\n",
    "from models import model_interface, model_loader, model_constants\n",
    "from visualize.two_d_plots import Display2DPaths"
   ]
  },
  {
   "cell_type": "code",
   "execution_count": 109,
   "metadata": {},
   "outputs": [],
   "source": [
    "dataset, dataset_info = data_loader.load_data(data_loader.DatasetName.CREDIT_CARD_DEFAULT)\n",
    "adapter = continuous_adapter.StandardizingAdapter(\n",
    "    label_column=dataset_info.label_column,\n",
    "    positive_label=dataset_info.positive_label\n",
    ").fit(dataset)\n",
    "model = model_loader.load_model(model_constants.ModelType.LOGISTIC_REGRESSION, data_loader.DatasetName.CREDIT_CARD_DEFAULT)"
   ]
  },
  {
   "cell_type": "code",
   "execution_count": 110,
   "metadata": {},
   "outputs": [],
   "source": [
    "neg_dataset = dataset[model.predict_pos_proba(dataset) < 0.4]\n",
    "POI = utils.random_poi(neg_dataset, dataset_info.label_column, adapter.negative_label)"
   ]
  },
  {
   "cell_type": "code",
   "execution_count": 135,
   "metadata": {},
   "outputs": [],
   "source": [
    "def get_path_length(path):\n",
    "    length = 0\n",
    "    for i in range(len(path)-1):\n",
    "        dist = path.iloc[i+1].to_numpy() - path.iloc[i].to_numpy()\n",
    "        length += np.linalg.norm(dist)\n",
    "    return length"
   ]
  },
  {
   "cell_type": "markdown",
   "metadata": {},
   "source": [
    "### With the same random seed, the output is always the same for the default method.\n",
    "It ignores the \"weight\" arguments"
   ]
  },
  {
   "cell_type": "code",
   "execution_count": 140,
   "metadata": {},
   "outputs": [
    {
     "name": "stdout",
     "output_type": "stream",
     "text": [
      "RANDOMSEED\n"
     ]
    },
    {
     "name": "stderr",
     "output_type": "stream",
     "text": [
      "100%|██████████| 1/1 [00:00<00:00,  1.41it/s]\n"
     ]
    },
    {
     "name": "stdout",
     "output_type": "stream",
     "text": [
      "certainty 0.9936619657289182\t\tpath length 613214.0\n",
      "certainty 0.9970955614604449\t\tpath length 979548.9351992579\n",
      "certainty 0.7987380677936876\t\tpath length 319566.0\n"
     ]
    }
   ],
   "source": [
    "dice = dice_method.DiCE(\n",
    "    k_directions = 3,\n",
    "    adapter=adapter,\n",
    "    dataset=dataset,\n",
    "    continuous_features=dataset_info.continuous_features,\n",
    "    model=model,\n",
    "    desired_confidence=0.6,\n",
    "    #dice_kwargs={\n",
    "    #    \"method\": \"genetic\"\n",
    "    #},\n",
    "    dice_counterfactual_kwargs={\n",
    "        'sparsity_weight': 0,\n",
    "        'proximity_weight': 1,\n",
    "        'diversity_weight': 0\n",
    "    },\n",
    "    random_seed=10342\n",
    ")\n",
    "\n",
    "iterator = recourse_iterator.RecourseIterator(\n",
    "    recourse_method=dice,\n",
    "    adapter=adapter,\n",
    "    certainty_cutoff=0.6,\n",
    "    model=model\n",
    ")\n",
    "\n",
    "paths = iterator.iterate_k_recourse_paths(POI, 4, 3)\n",
    "\n",
    "for path in paths:\n",
    "    certainty = model.predict_pos_proba_series(path.iloc[-1])\n",
    "    pl = get_path_length(path)\n",
    "    print(f\"certainty {certainty}\\t\\tpath length {pl}\")"
   ]
  },
  {
   "cell_type": "code",
   "execution_count": 142,
   "metadata": {},
   "outputs": [
    {
     "name": "stdout",
     "output_type": "stream",
     "text": [
      "RANDOMSEED\n"
     ]
    },
    {
     "name": "stderr",
     "output_type": "stream",
     "text": [
      "100%|██████████| 1/1 [00:00<00:00,  1.39it/s]\n"
     ]
    },
    {
     "name": "stdout",
     "output_type": "stream",
     "text": [
      "certainty 0.9936619657289182\t\tpath length 613214.0\n",
      "certainty 0.9970955614604449\t\tpath length 979548.9351992579\n",
      "certainty 0.7987380677936876\t\tpath length 319566.0\n"
     ]
    }
   ],
   "source": [
    "dice = dice_method.DiCE(\n",
    "    k_directions = 3,\n",
    "    adapter=adapter,\n",
    "    dataset=dataset,\n",
    "    continuous_features=dataset_info.continuous_features,\n",
    "    model=model,\n",
    "    desired_confidence=0.6,\n",
    "    #dice_kwargs={\n",
    "    #    \"method\": \"genetic\"\n",
    "    #},\n",
    "    dice_counterfactual_kwargs={\n",
    "        'sparsity_weight': 1,\n",
    "        'proximity_weight': 0,\n",
    "        'diversity_weight': 0\n",
    "    },\n",
    "    random_seed=10342\n",
    ")\n",
    "\n",
    "iterator = recourse_iterator.RecourseIterator(\n",
    "    recourse_method=dice,\n",
    "    adapter=adapter,\n",
    "    certainty_cutoff=0.6,\n",
    "    model=model\n",
    ")\n",
    "\n",
    "paths = iterator.iterate_k_recourse_paths(POI, 4, 3)\n",
    "\n",
    "for path in paths:\n",
    "    certainty = model.predict_pos_proba_series(path.iloc[-1])\n",
    "    pl = get_path_length(path)\n",
    "    print(f\"certainty {certainty}\\t\\tpath length {pl}\")"
   ]
  },
  {
   "cell_type": "code",
   "execution_count": 144,
   "metadata": {},
   "outputs": [
    {
     "name": "stderr",
     "output_type": "stream",
     "text": [
      "100%|██████████| 1/1 [00:00<00:00,  1.15it/s]\n"
     ]
    },
    {
     "name": "stdout",
     "output_type": "stream",
     "text": [
      "certainty 0.06770660513587982\t\tpath length 0\n",
      "certainty 0.6167896335248004\t\tpath length 192453.22412472076\n",
      "certainty 0.7173644904830861\t\tpath length 280398.05868621846\n"
     ]
    }
   ],
   "source": [
    "dice = dice_method.DiCE(\n",
    "    k_directions = 3,\n",
    "    adapter=adapter,\n",
    "    dataset=dataset,\n",
    "    continuous_features=dataset_info.continuous_features,\n",
    "    model=model,\n",
    "    desired_confidence=0.6,\n",
    "    dice_kwargs={\n",
    "        \"method\": \"genetic\"\n",
    "    },\n",
    "    dice_counterfactual_kwargs={\n",
    "        'sparsity_weight': 1,\n",
    "        'proximity_weight': 0,\n",
    "        'diversity_weight': 0,\n",
    "        'random_seed': 849545\n",
    "    },\n",
    "    random_seed=102394\n",
    ")\n",
    "\n",
    "iterator = recourse_iterator.RecourseIterator(\n",
    "    recourse_method=dice,\n",
    "    adapter=adapter,\n",
    "    certainty_cutoff=0.6,\n",
    "    model=model\n",
    ")\n",
    "\n",
    "paths = iterator.iterate_k_recourse_paths(POI, 4, 3)\n",
    "\n",
    "for path in paths:\n",
    "    certainty = model.predict_pos_proba_series(path.iloc[-1])\n",
    "    pl = get_path_length(path)\n",
    "    print(f\"certainty {certainty}\\t\\tpath length {pl}\")"
   ]
  },
  {
   "cell_type": "code",
   "execution_count": null,
   "metadata": {},
   "outputs": [],
   "source": []
  }
 ],
 "metadata": {
  "kernelspec": {
   "display_name": "Python 3.8.10 ('.venv')",
   "language": "python",
   "name": "python3"
  },
  "language_info": {
   "codemirror_mode": {
    "name": "ipython",
    "version": 3
   },
   "file_extension": ".py",
   "mimetype": "text/x-python",
   "name": "python",
   "nbconvert_exporter": "python",
   "pygments_lexer": "ipython3",
   "version": "3.8.10"
  },
  "orig_nbformat": 4,
  "vscode": {
   "interpreter": {
    "hash": "544bbcec4a3402c4ea95887680bbb478b7040f8d29544f0f161653d15df00b63"
   }
  }
 },
 "nbformat": 4,
 "nbformat_minor": 2
}
